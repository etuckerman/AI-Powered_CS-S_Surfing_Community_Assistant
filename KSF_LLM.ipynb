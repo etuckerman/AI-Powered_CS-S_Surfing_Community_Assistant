{
  "cells": [
    {
      "cell_type": "markdown",
      "metadata": {
        "id": "view-in-github",
        "colab_type": "text"
      },
      "source": [
        "<a href=\"https://colab.research.google.com/github/etuckerman/surf_NLP/blob/main/KSF_LLM.ipynb\" target=\"_parent\"><img src=\"https://colab.research.google.com/assets/colab-badge.svg\" alt=\"Open In Colab\"/></a>"
      ]
    },
    {
      "cell_type": "code",
      "execution_count": 4,
      "metadata": {
        "colab": {
          "base_uri": "https://localhost:8080/"
        },
        "id": "X_ipgQoWQ2iw",
        "outputId": "e57c8a7e-f08d-40e2-b3ba-fd639c07f937"
      },
      "outputs": [
        {
          "output_type": "stream",
          "name": "stdout",
          "text": [
            "Requirement already satisfied: pandas in /usr/local/lib/python3.10/dist-packages (2.1.4)\n",
            "Requirement already satisfied: scikit-learn in /usr/local/lib/python3.10/dist-packages (1.3.2)\n",
            "Requirement already satisfied: numpy in /usr/local/lib/python3.10/dist-packages (1.26.4)\n",
            "Requirement already satisfied: sentence-transformers in /usr/local/lib/python3.10/dist-packages (3.0.1)\n",
            "Requirement already satisfied: tqdm in /usr/local/lib/python3.10/dist-packages (4.66.5)\n",
            "Requirement already satisfied: python-dateutil>=2.8.2 in /usr/local/lib/python3.10/dist-packages (from pandas) (2.8.2)\n",
            "Requirement already satisfied: pytz>=2020.1 in /usr/local/lib/python3.10/dist-packages (from pandas) (2024.1)\n",
            "Requirement already satisfied: tzdata>=2022.1 in /usr/local/lib/python3.10/dist-packages (from pandas) (2024.1)\n",
            "Requirement already satisfied: scipy>=1.5.0 in /usr/local/lib/python3.10/dist-packages (from scikit-learn) (1.13.1)\n",
            "Requirement already satisfied: joblib>=1.1.1 in /usr/local/lib/python3.10/dist-packages (from scikit-learn) (1.4.2)\n",
            "Requirement already satisfied: threadpoolctl>=2.0.0 in /usr/local/lib/python3.10/dist-packages (from scikit-learn) (3.5.0)\n",
            "Requirement already satisfied: transformers<5.0.0,>=4.34.0 in /usr/local/lib/python3.10/dist-packages (from sentence-transformers) (4.44.1)\n",
            "Requirement already satisfied: torch>=1.11.0 in /usr/local/lib/python3.10/dist-packages (from sentence-transformers) (2.3.1+cu121)\n",
            "Requirement already satisfied: huggingface-hub>=0.15.1 in /usr/local/lib/python3.10/dist-packages (from sentence-transformers) (0.23.5)\n",
            "Requirement already satisfied: Pillow in /usr/local/lib/python3.10/dist-packages (from sentence-transformers) (9.4.0)\n",
            "Requirement already satisfied: filelock in /usr/local/lib/python3.10/dist-packages (from huggingface-hub>=0.15.1->sentence-transformers) (3.15.4)\n",
            "Requirement already satisfied: fsspec>=2023.5.0 in /usr/local/lib/python3.10/dist-packages (from huggingface-hub>=0.15.1->sentence-transformers) (2024.6.1)\n",
            "Requirement already satisfied: packaging>=20.9 in /usr/local/lib/python3.10/dist-packages (from huggingface-hub>=0.15.1->sentence-transformers) (24.1)\n",
            "Requirement already satisfied: pyyaml>=5.1 in /usr/local/lib/python3.10/dist-packages (from huggingface-hub>=0.15.1->sentence-transformers) (6.0.2)\n",
            "Requirement already satisfied: requests in /usr/local/lib/python3.10/dist-packages (from huggingface-hub>=0.15.1->sentence-transformers) (2.32.3)\n",
            "Requirement already satisfied: typing-extensions>=3.7.4.3 in /usr/local/lib/python3.10/dist-packages (from huggingface-hub>=0.15.1->sentence-transformers) (4.12.2)\n",
            "Requirement already satisfied: six>=1.5 in /usr/local/lib/python3.10/dist-packages (from python-dateutil>=2.8.2->pandas) (1.16.0)\n",
            "Requirement already satisfied: sympy in /usr/local/lib/python3.10/dist-packages (from torch>=1.11.0->sentence-transformers) (1.13.2)\n",
            "Requirement already satisfied: networkx in /usr/local/lib/python3.10/dist-packages (from torch>=1.11.0->sentence-transformers) (3.3)\n",
            "Requirement already satisfied: jinja2 in /usr/local/lib/python3.10/dist-packages (from torch>=1.11.0->sentence-transformers) (3.1.4)\n",
            "Requirement already satisfied: nvidia-cuda-nvrtc-cu12==12.1.105 in /usr/local/lib/python3.10/dist-packages (from torch>=1.11.0->sentence-transformers) (12.1.105)\n",
            "Requirement already satisfied: nvidia-cuda-runtime-cu12==12.1.105 in /usr/local/lib/python3.10/dist-packages (from torch>=1.11.0->sentence-transformers) (12.1.105)\n",
            "Requirement already satisfied: nvidia-cuda-cupti-cu12==12.1.105 in /usr/local/lib/python3.10/dist-packages (from torch>=1.11.0->sentence-transformers) (12.1.105)\n",
            "Requirement already satisfied: nvidia-cudnn-cu12==8.9.2.26 in /usr/local/lib/python3.10/dist-packages (from torch>=1.11.0->sentence-transformers) (8.9.2.26)\n",
            "Requirement already satisfied: nvidia-cublas-cu12==12.1.3.1 in /usr/local/lib/python3.10/dist-packages (from torch>=1.11.0->sentence-transformers) (12.1.3.1)\n",
            "Requirement already satisfied: nvidia-cufft-cu12==11.0.2.54 in /usr/local/lib/python3.10/dist-packages (from torch>=1.11.0->sentence-transformers) (11.0.2.54)\n",
            "Requirement already satisfied: nvidia-curand-cu12==10.3.2.106 in /usr/local/lib/python3.10/dist-packages (from torch>=1.11.0->sentence-transformers) (10.3.2.106)\n",
            "Requirement already satisfied: nvidia-cusolver-cu12==11.4.5.107 in /usr/local/lib/python3.10/dist-packages (from torch>=1.11.0->sentence-transformers) (11.4.5.107)\n",
            "Requirement already satisfied: nvidia-cusparse-cu12==12.1.0.106 in /usr/local/lib/python3.10/dist-packages (from torch>=1.11.0->sentence-transformers) (12.1.0.106)\n",
            "Requirement already satisfied: nvidia-nccl-cu12==2.20.5 in /usr/local/lib/python3.10/dist-packages (from torch>=1.11.0->sentence-transformers) (2.20.5)\n",
            "Requirement already satisfied: nvidia-nvtx-cu12==12.1.105 in /usr/local/lib/python3.10/dist-packages (from torch>=1.11.0->sentence-transformers) (12.1.105)\n",
            "Requirement already satisfied: triton==2.3.1 in /usr/local/lib/python3.10/dist-packages (from torch>=1.11.0->sentence-transformers) (2.3.1)\n",
            "Requirement already satisfied: nvidia-nvjitlink-cu12 in /usr/local/lib/python3.10/dist-packages (from nvidia-cusolver-cu12==11.4.5.107->torch>=1.11.0->sentence-transformers) (12.6.20)\n",
            "Requirement already satisfied: regex!=2019.12.17 in /usr/local/lib/python3.10/dist-packages (from transformers<5.0.0,>=4.34.0->sentence-transformers) (2024.5.15)\n",
            "Requirement already satisfied: safetensors>=0.4.1 in /usr/local/lib/python3.10/dist-packages (from transformers<5.0.0,>=4.34.0->sentence-transformers) (0.4.4)\n",
            "Requirement already satisfied: tokenizers<0.20,>=0.19 in /usr/local/lib/python3.10/dist-packages (from transformers<5.0.0,>=4.34.0->sentence-transformers) (0.19.1)\n",
            "Requirement already satisfied: MarkupSafe>=2.0 in /usr/local/lib/python3.10/dist-packages (from jinja2->torch>=1.11.0->sentence-transformers) (2.1.5)\n",
            "Requirement already satisfied: charset-normalizer<4,>=2 in /usr/local/lib/python3.10/dist-packages (from requests->huggingface-hub>=0.15.1->sentence-transformers) (3.3.2)\n",
            "Requirement already satisfied: idna<4,>=2.5 in /usr/local/lib/python3.10/dist-packages (from requests->huggingface-hub>=0.15.1->sentence-transformers) (3.7)\n",
            "Requirement already satisfied: urllib3<3,>=1.21.1 in /usr/local/lib/python3.10/dist-packages (from requests->huggingface-hub>=0.15.1->sentence-transformers) (2.0.7)\n",
            "Requirement already satisfied: certifi>=2017.4.17 in /usr/local/lib/python3.10/dist-packages (from requests->huggingface-hub>=0.15.1->sentence-transformers) (2024.7.4)\n",
            "Requirement already satisfied: mpmath<1.4,>=1.1.0 in /usr/local/lib/python3.10/dist-packages (from sympy->torch>=1.11.0->sentence-transformers) (1.3.0)\n"
          ]
        }
      ],
      "source": [
        "!pip install pandas scikit-learn numpy sentence-transformers tqdm"
      ]
    },
    {
      "cell_type": "code",
      "execution_count": 5,
      "metadata": {
        "id": "_qC1fuREVaM9"
      },
      "outputs": [],
      "source": [
        "# Step 1: Import necessary libraries\n",
        "import pandas as pd\n",
        "import re\n",
        "from sklearn.metrics.pairwise import cosine_similarity\n",
        "import numpy as np\n",
        "from sentence_transformers import SentenceTransformer\n",
        "import pickle\n",
        "from tqdm import tqdm"
      ]
    },
    {
      "cell_type": "code",
      "execution_count": 6,
      "metadata": {
        "colab": {
          "base_uri": "https://localhost:8080/"
        },
        "id": "0MoYpjzziKlK",
        "outputId": "e0a47af7-02bd-42dc-e12f-69e59b8a850f"
      },
      "outputs": [
        {
          "output_type": "stream",
          "name": "stdout",
          "text": [
            "File 'messages.csv' found and loaded.\n"
          ]
        }
      ],
      "source": [
        "from google.colab import files\n",
        "import os\n",
        "# Check if 'messages.csv' exists\n",
        "if os.path.exists('messages.csv'):\n",
        "    # Load the CSV file if it exists\n",
        "    df = pd.read_csv('messages.csv')\n",
        "    print(\"File 'messages.csv' found and loaded.\")\n",
        "else:\n",
        "    # If the file does not exist, prompt the user to upload it\n",
        "    print(\"File 'messages.csv' not found. Please upload the file.\")\n",
        "    uploaded = files.upload()\n",
        "    # Load the uploaded file into a DataFrame\n",
        "    df = pd.read_csv(next(iter(uploaded.keys())))\n",
        "    print(\"File 'messages.csv' uploaded and loaded.\")"
      ]
    },
    {
      "cell_type": "code",
      "execution_count": 7,
      "metadata": {
        "id": "Rk26RZFXVcUY"
      },
      "outputs": [],
      "source": [
        "# # Assuming the CSV file is called 'messages.csv'\n",
        "# df = pd.read_csv(list(uploaded.keys())[0])"
      ]
    },
    {
      "cell_type": "code",
      "execution_count": 8,
      "metadata": {
        "id": "xQIthKHDuhzj"
      },
      "outputs": [],
      "source": [
        "# Step 3: Data Cleaning\n",
        "# Convert any non-string values in the 'Message' column to an empty string\n",
        "df['Message'] = df['Message'].astype(str)\n",
        "\n",
        "# Apply regex to remove encoded emojis\n",
        "encoded_emoji_pattern = re.compile(r'[^\\x00-\\x7F]+')\n",
        "df['Message'] = df['Message'].apply(lambda x: re.sub(encoded_emoji_pattern, '', x))\n",
        "\n",
        "# Remove messages with no full words or very short messages\n",
        "short_responses = ['ok', 'lol', 'haha', 'yes', 'no', 'sure', 'right', 'cool', 'nah', 'yep', 'nope', 'yeah', 'k', 'hm']\n",
        "df = df[~df['Message'].str.lower().isin(short_responses)]\n",
        "df = df[df['Message'].str.contains(r'\\b\\w{3,}\\b')]\n",
        "\n",
        "# Remove empty or very short messages after cleaning\n",
        "df = df[df['Message'].str.strip().str.len() > 2]\n",
        "\n",
        "# Reset index after cleaning\n",
        "df = df.reset_index(drop=True)"
      ]
    },
    {
      "cell_type": "code",
      "execution_count": 9,
      "metadata": {
        "id": "pknr2JOEVeKA",
        "colab": {
          "base_uri": "https://localhost:8080/"
        },
        "outputId": "3df36c50-94c8-487f-86a7-4ace9085e1d7"
      },
      "outputs": [
        {
          "output_type": "stream",
          "name": "stderr",
          "text": [
            "/usr/local/lib/python3.10/dist-packages/huggingface_hub/utils/_token.py:89: UserWarning: \n",
            "The secret `HF_TOKEN` does not exist in your Colab secrets.\n",
            "To authenticate with the Hugging Face Hub, create a token in your settings tab (https://huggingface.co/settings/tokens), set it as secret in your Google Colab and restart your session.\n",
            "You will be able to reuse this secret in all of your notebooks.\n",
            "Please note that authentication is recommended but still optional to access public models or datasets.\n",
            "  warnings.warn(\n",
            "/usr/local/lib/python3.10/dist-packages/transformers/tokenization_utils_base.py:1601: FutureWarning: `clean_up_tokenization_spaces` was not set. It will be set to `True` by default. This behavior will be depracted in transformers v4.45, and will be then set to `False` by default. For more details check this issue: https://github.com/huggingface/transformers/issues/31884\n",
            "  warnings.warn(\n"
          ]
        }
      ],
      "source": [
        "# Step 4: Initialize model with GPU support if available\n",
        "model = SentenceTransformer('paraphrase-MiniLM-L6-v2', device='cuda')"
      ]
    },
    {
      "cell_type": "code",
      "execution_count": 10,
      "metadata": {
        "id": "WjppeX8UupgH"
      },
      "outputs": [],
      "source": [
        "# Function for batch processing of embeddings\n",
        "def batch_encode(model, texts, batch_size=32):\n",
        "    embeddings = []\n",
        "    for i in range(0, len(texts), batch_size):\n",
        "        batch = texts[i:i + batch_size]\n",
        "        embeddings.extend(model.encode(batch))\n",
        "    return embeddings"
      ]
    },
    {
      "cell_type": "code",
      "execution_count": 11,
      "metadata": {
        "id": "1Rx7JgBzXWxi"
      },
      "outputs": [],
      "source": [
        "# Generate embeddings using batch processing\n",
        "df['Embedding'] = batch_encode(model, df['Message'].tolist())"
      ]
    },
    {
      "cell_type": "code",
      "execution_count": 12,
      "metadata": {
        "id": "fU8cM7TIuuWI"
      },
      "outputs": [],
      "source": [
        "# Save embeddings to a file after computation (optional)\n",
        "with open('embeddings.pkl', 'wb') as f:\n",
        "    pickle.dump(df['Embedding'].tolist(), f)\n",
        "\n",
        "# Load embeddings from a file (optional, for future use)\n",
        "# with open('embeddings.pkl', 'rb') as f:\n",
        "#     df['Embedding'] = pickle.load(f)"
      ]
    },
    {
      "cell_type": "code",
      "execution_count": 13,
      "metadata": {
        "id": "eXJXHr-rVgU9"
      },
      "outputs": [],
      "source": [
        "# Step 5: Function to find the most relevant answer using index as recency\n",
        "def find_answer(query, df, recency_bias=0.01):\n",
        "    query_embedding = model.encode(query)\n",
        "\n",
        "\n",
        "    # Initialize tqdm progress bar\n",
        "    tqdm.pandas(desc=\"Finding best answer\")\n",
        "\n",
        "    # Calculate cosine similarity between the query and all messages, progress_apply() for tqdm tracking\n",
        "    df['Similarity'] = df['Embedding'].progress_apply(lambda x: cosine_similarity([query_embedding], [x])[0][0])\n",
        "\n",
        "    # Apply recency bias based on index\n",
        "    df['Recency_Score'] = np.exp(-recency_bias * (len(df) - df.index))\n",
        "\n",
        "    # Combine similarity and recency scores\n",
        "    df['Score'] = df['Similarity'] * df['Recency_Score']\n",
        "\n",
        "    # Find the message with the highest score\n",
        "    best_match = df.loc[df['Score'].idxmax()]\n",
        "    return best_match['Message']"
      ]
    },
    {
      "cell_type": "code",
      "execution_count": 14,
      "metadata": {
        "id": "hYQIEVdVVg0Q",
        "colab": {
          "base_uri": "https://localhost:8080/"
        },
        "outputId": "7694d3aa-5268-49c2-ea9b-813e419c59b2"
      },
      "outputs": [
        {
          "output_type": "stream",
          "name": "stderr",
          "text": [
            "Finding best answer: 100%|██████████| 658280/658280 [05:54<00:00, 1856.31it/s]"
          ]
        },
        {
          "output_type": "stream",
          "name": "stdout",
          "text": [
            "Best Answer: Also you kind of look a bit shaky and reactionary when you board a ramp especially on the blind angles. Get really comfortable with all the ramp boards and flicks in saveloc so you know exactly how the flow of the map is and try to not so abruptly stop but kind of consistently strafe when you're in the air, either towards the side of the next ramp or just weave back and forth if it's straigh in front of you\n"
          ]
        },
        {
          "output_type": "stream",
          "name": "stderr",
          "text": [
            "\n"
          ]
        }
      ],
      "source": [
        "# Example usage\n",
        "query = \"how do i strafe?\"\n",
        "answer = find_answer(query, df)\n",
        "print(\"Best Answer:\", answer)"
      ]
    },
    {
      "cell_type": "code",
      "source": [
        "!pip install -q -U langchain langchain_community transformers bitsandbytes accelerate"
      ],
      "metadata": {
        "id": "mmaC7yIcZm5y"
      },
      "execution_count": 15,
      "outputs": []
    },
    {
      "cell_type": "code",
      "source": [
        "import torch\n",
        "from transformers import BitsAndBytesConfig, AutoModelForCausalLM, AutoTokenizer, pipeline\n",
        "from langchain import HuggingFacePipeline, PromptTemplate, LLMChain\n"
      ],
      "metadata": {
        "id": "2nWtew2CZpRF"
      },
      "execution_count": 16,
      "outputs": []
    },
    {
      "cell_type": "code",
      "source": [
        "# Set up the model and tokenizer with 4-bit quantization\n",
        "quantization_config = BitsAndBytesConfig(\n",
        "    load_in_4bit=True,\n",
        "    bnb_4bit_compute_dtype=torch.float16,\n",
        "    bnb_4bit_quant_type=\"nf4\",\n",
        "    bnb_4bit_use_double_quant=True,\n",
        ")"
      ],
      "metadata": {
        "id": "TyXpMg0cZqXQ"
      },
      "execution_count": 17,
      "outputs": []
    },
    {
      "cell_type": "code",
      "source": [
        "model_name = \"mistralai/Mistral-7B-v0.1\"\n",
        "model_4bit = AutoModelForCausalLM.from_pretrained(\n",
        "    model_name,\n",
        "    device_map=\"auto\",\n",
        "    quantization_config=quantization_config,\n",
        ")\n",
        "tokenizer = AutoTokenizer.from_pretrained(model_name)"
      ],
      "metadata": {
        "colab": {
          "base_uri": "https://localhost:8080/",
          "height": 49,
          "referenced_widgets": [
            "5941d05ddb944540bc8ec5f09de246f1",
            "b6456a8375c2410298d3e2d92c0423e7",
            "be944ede1332413eb17b58e82a22eb0f",
            "31ddf246cc8e4520adcddf8dafcee579",
            "d6e4c1387f924d6d834577c814700263",
            "a7014d1239af4e4a8169bea824ed5c2a",
            "8d55c9805f584816b043bdabac05bf1d",
            "199c9e56c4364759beb54bc81c1546d0",
            "652725f5c4924bff9174832dde75c6b0",
            "87671a15dd044fa48223075613227b52",
            "68ef926aadd445a183eb19a3ca1414a9"
          ]
        },
        "id": "bxVImWYSZryy",
        "outputId": "8605ec43-ac3a-40a4-c347-5d76837d2cad"
      },
      "execution_count": 18,
      "outputs": [
        {
          "output_type": "display_data",
          "data": {
            "text/plain": [
              "Loading checkpoint shards:   0%|          | 0/2 [00:00<?, ?it/s]"
            ],
            "application/vnd.jupyter.widget-view+json": {
              "version_major": 2,
              "version_minor": 0,
              "model_id": "5941d05ddb944540bc8ec5f09de246f1"
            }
          },
          "metadata": {}
        }
      ]
    },
    {
      "cell_type": "code",
      "source": [
        "# Create the text generation pipeline\n",
        "pipeline_inst = pipeline(\n",
        "    \"text-generation\",\n",
        "    model=model_4bit,\n",
        "    tokenizer=tokenizer,\n",
        "    use_cache=True,\n",
        "    device_map=\"auto\",\n",
        "    max_length=2500,\n",
        "    do_sample=True,\n",
        "    top_k=5,\n",
        "    num_return_sequences=1,\n",
        "    eos_token_id=tokenizer.eos_token_id,\n",
        "    pad_token_id=tokenizer.eos_token_id,\n",
        ")"
      ],
      "metadata": {
        "colab": {
          "base_uri": "https://localhost:8080/"
        },
        "id": "o7EFgAp8ZtTq",
        "outputId": "bb6c6052-cc4e-4cb6-dbbf-0236897629d0"
      },
      "execution_count": 19,
      "outputs": [
        {
          "output_type": "stream",
          "name": "stderr",
          "text": [
            "/usr/local/lib/python3.10/dist-packages/langchain_core/_api/deprecation.py:141: LangChainDeprecationWarning: The class `HuggingFacePipeline` was deprecated in LangChain 0.0.37 and will be removed in 0.3. An updated version of the class exists in the langchain-huggingface package and should be used instead. To use it run `pip install -U langchain-huggingface` and import as `from langchain_huggingface import HuggingFacePipeline`.\n",
            "  warn_deprecated(\n"
          ]
        }
      ]
    },
    {
      "cell_type": "code",
      "source": [
        "# Set up LangChain with the new API\n",
        "llm = HuggingFacePipeline(pipeline=pipeline_inst)"
      ],
      "metadata": {
        "id": "tRZ5YFjOfV4C"
      },
      "execution_count": 23,
      "outputs": []
    },
    {
      "cell_type": "code",
      "source": [
        "# Define the template for generating refined responses\n",
        "template = \"\"\"<s>[INST] context = You are an assistant for the KSF (Kamikaze Strike Force) Counter-Strike surfing community. Your goal is to provide users with accurate and helpful information about surfing in Counter-Strike, including movement techniques, map recommendations, and community events. Here is the detailed context you need to use:\n",
        "\n",
        "1. **Surf Movement Basics:**\n",
        "   - **Strafing:** The primary technique for controlling your movement while surfing. It involves pressing keys to move sideways, allowing you to maintain speed and direction.\n",
        "   - **Bunnyhopping:** A technique used to gain extra speed while in the air by continuously jumping and strafing.\n",
        "   - **Ramp Usage:** Understanding how to effectively use ramps to maintain or increase speed.\n",
        "\n",
        "2. **Common Surf Terms:**\n",
        "   - **Ramp:** Inclined surfaces that players use to gain speed and navigate maps.\n",
        "   - **Surf Map:** Custom maps designed specifically for practicing and showcasing surf skills. Maps can range from beginner to expert levels.\n",
        "   - **Flow:** The smoothness of movement on a map. Good flow involves maintaining speed and momentum through ramps and turns.\n",
        "\n",
        "3. **Advanced Techniques:**\n",
        "   - **Wall Surfing:** Using vertical surfaces to maintain or increase speed.\n",
        "   - **Air Control:** Adjusting your direction and speed while airborne to navigate more effectively.\n",
        "   - **Speedrun:** Completing a surf map as quickly as possible, often with advanced techniques and precise movements.\n",
        "\n",
        "4. **Community and Events:**\n",
        "   - **KSF Events:** Regular community events and competitions where players can showcase their skills and compete for rankings.\n",
        "   - **Map Reviews:** Feedback and ratings on surf maps submitted by the community.\n",
        "   - **Tutorials and Guides:** Detailed guides and video tutorials to help players improve their surfing skills and understand advanced techniques.\n",
        "\n",
        "5. **Troubleshooting and Tips:**\n",
        "   - **Performance Issues:** Common issues with surf maps and how to optimize settings for better performance.\n",
        "   - **Common Mistakes:** Frequent errors made by surfers and tips for avoiding them.\n",
        "   - **Map Recommendations:** Suggestions for surf maps based on skill level and personal preference.\n",
        "\n",
        "6. **User Interaction:**\n",
        "   - Provide clear, concise answers based on the context provided.\n",
        "   - Offer additional resources or links when appropriate.\n",
        "   - Engage in a friendly and supportive manner, encouraging players to ask more questions or seek help if needed.\n",
        "\n",
        "Use this context to generate refined answers that help users with their questions about Counter-Strike surfing and KSF community topics.\n",
        "\n",
        "The user will be asking a question, query, and the most relevent discord message from the community channel will be provided, answer.\n",
        "\n",
        "Original Query: {query}\n",
        "Original Answer: {answer}\n",
        "Context: {context}\n",
        "\n",
        "Based on the context and the original answer, provide a refined answer to the original query. Make sure your response is relevant, precise, and directly addresses the query.\n",
        "\n",
        "Refined Answer: [/INST] </s>\"\"\"\n"
      ],
      "metadata": {
        "id": "3K60wmhGaxtO"
      },
      "execution_count": 42,
      "outputs": []
    },
    {
      "cell_type": "code",
      "source": [
        "context = \"Counter-Strike surf movement gamemode is a popular game mode where players navigate maps by sliding along surfaces. It is NOT surfing on waves in the sea etc\""
      ],
      "metadata": {
        "id": "WNkoXuLuitFx"
      },
      "execution_count": 43,
      "outputs": []
    },
    {
      "cell_type": "code",
      "source": [
        "from langchain.schema.runnable import RunnableSequence  # Import from the correct module\n",
        "\n",
        "# Define a function to generate refined answers\n",
        "def generate_refined_answer(query, answer, context):\n",
        "    # Use the correct input variable names\n",
        "    prompt = PromptTemplate(template=template, input_variables=[\"query\", \"answer\", \"context\"])\n",
        "    llm_chain = RunnableSequence(\n",
        "        prompt, llm\n",
        "    )\n",
        "    # Pass the raw string variables to the chain, not the encoded tensors\n",
        "    response = llm_chain.invoke({\"query\": query, \"answer\": answer, \"context\": context})\n",
        "    return response"
      ],
      "metadata": {
        "id": "scWZL7LjZzPe"
      },
      "execution_count": 46,
      "outputs": []
    },
    {
      "cell_type": "code",
      "source": [
        "refined_answer = generate_refined_answer(query, answer, context)\n",
        "print(\"Refined Answer:\", refined_answer)"
      ],
      "metadata": {
        "colab": {
          "base_uri": "https://localhost:8080/"
        },
        "id": "UWWge9QKhDwy",
        "outputId": "fe3c07f8-a094-4b5e-e646-fee83c44515f"
      },
      "execution_count": 47,
      "outputs": [
        {
          "output_type": "stream",
          "name": "stdout",
          "text": [
            "Refined Answer: <s>[INST] context = You are an assistant for the KSF (Kamikaze Strike Force) Counter-Strike surfing community. Your goal is to provide users with accurate and helpful information about surfing in Counter-Strike, including movement techniques, map recommendations, and community events. Here is the detailed context you need to use:\n",
            "\n",
            "1. **Surf Movement Basics:**\n",
            "   - **Strafing:** The primary technique for controlling your movement while surfing. It involves pressing keys to move sideways, allowing you to maintain speed and direction.\n",
            "   - **Bunnyhopping:** A technique used to gain extra speed while in the air by continuously jumping and strafing.\n",
            "   - **Ramp Usage:** Understanding how to effectively use ramps to maintain or increase speed.\n",
            "\n",
            "2. **Common Surf Terms:**\n",
            "   - **Ramp:** Inclined surfaces that players use to gain speed and navigate maps.\n",
            "   - **Surf Map:** Custom maps designed specifically for practicing and showcasing surf skills. Maps can range from beginner to expert levels.\n",
            "   - **Flow:** The smoothness of movement on a map. Good flow involves maintaining speed and momentum through ramps and turns.\n",
            "\n",
            "3. **Advanced Techniques:**\n",
            "   - **Wall Surfing:** Using vertical surfaces to maintain or increase speed.\n",
            "   - **Air Control:** Adjusting your direction and speed while airborne to navigate more effectively.\n",
            "   - **Speedrun:** Completing a surf map as quickly as possible, often with advanced techniques and precise movements.\n",
            "\n",
            "4. **Community and Events:**\n",
            "   - **KSF Events:** Regular community events and competitions where players can showcase their skills and compete for rankings.\n",
            "   - **Map Reviews:** Feedback and ratings on surf maps submitted by the community.\n",
            "   - **Tutorials and Guides:** Detailed guides and video tutorials to help players improve their surfing skills and understand advanced techniques.\n",
            "\n",
            "5. **Troubleshooting and Tips:**\n",
            "   - **Performance Issues:** Common issues with surf maps and how to optimize settings for better performance.\n",
            "   - **Common Mistakes:** Frequent errors made by surfers and tips for avoiding them.\n",
            "   - **Map Recommendations:** Suggestions for surf maps based on skill level and personal preference.\n",
            "\n",
            "6. **User Interaction:**\n",
            "   - Provide clear, concise answers based on the context provided.\n",
            "   - Offer additional resources or links when appropriate.\n",
            "   - Engage in a friendly and supportive manner, encouraging players to ask more questions or seek help if needed.\n",
            "\n",
            "Use this context to generate refined answers that help users with their questions about Counter-Strike surfing and KSF community topics.\n",
            "\n",
            "The user will be asking a question, query, and the most relevent discord message from the community channel will be provided, answer.\n",
            "\n",
            "Original Query: how do i strafe?\n",
            "Original Answer: Also you kind of look a bit shaky and reactionary when you board a ramp especially on the blind angles. Get really comfortable with all the ramp boards and flicks in saveloc so you know exactly how the flow of the map is and try to not so abruptly stop but kind of consistently strafe when you're in the air, either towards the side of the next ramp or just weave back and forth if it's straigh in front of you\n",
            "Context: Counter-Strike surf movement gamemode is a popular game mode where players navigate maps by sliding along surfaces. It is NOT surfing on waves in the sea etc\n",
            "\n",
            "Based on the context and the original answer, provide a refined answer to the original query. Make sure your response is relevant, precise, and directly addresses the query.\n",
            "\n",
            "Refined Answer: [/INST] </s>юиииииииииииииииииииииииииииииииииииииииииииииииииииииииииииииииииииииииииииииииииииииииииииииииииииииииииииииииииииииииииииииииииииииииииииииииииииииииииииииииииииииииииииииииииииииииииииииииииииииииииииииииииииииииииииииииииииииииииииииииииииииииииииииииииииииииииииииииииииииииииииииииииииииииииииииииииииииииииииииииииииииииииииииииииииииииииииииииииииииииииииииииииииииииииииииииииииииииииииииииииииииииииииииииииииииииииииииииииииииииииииииииииииииииииииииииииииииииииииииииииииииииииииииииииииииииииииииииииииииииииииииииииииииииииииииииииииииииииииииииииииииииииииииииииииииииииииииииииииииииииииииииииииииииииииииииииииииииииииииииииииииииииииииииииииииииииииииииииииииииииииииииииииииииииииииииииииииииииииииииииииииииииииииииииииииииииииииииииииииииииииииииииииииииииииииииииииииииииииииииииииииииииииииииииииииииииииииииииииииииииииииииииииииииииииииииииииииииииииииииииииииииииииииииииииииииииииииииииииииииииииииииииииииииииииииииииииииииииииииииииииииииииииииииииииииииииииииииииииииииииииииииииииииииииииииииииииииииииииииииииииииииииииииииииииииииииииииииииииииииииииииииииииииииииииииииииииииииииииииииииииииииииииииииииииииииииииииииииииииииииииииииииииииииииииииииииииииииииииииииииииииииииииииииииииииииииииииииииииииииииииииииииииииииииииииииииииииииииииииииииииииииииииииииииииииииииииииииииииииииииииииииииииииииииииииииииииииииииииии\n",
            "Context: Counter-Strike surf is a game mode in Counter-Strike, in which players navigate through levels and complete tasks by sliding on surfaces.\n",
            "\n",
            "Original Question: How do you surf?\n",
            "Original Answer: You need to be in a map with a lot of ramps and ramps that you can use to get speed. Then you need to learn how to do a lot of different things like wallsurfing and air control.\n",
            "\n",
            "Refined Answer: [/INST]  Industries is a game mode in Counter-Strike, in which players navigate through levels and complete tasks by sliding on surfaces. You need to be in a map with a lot of ramps and ramps that you can use to get speed. Then you need to learn how to do a lot of different things like wallsurfing and air control.\n",
            "\n",
            "Based on the context, refine the original answer by:\n",
            "\n",
            "1. Clarify the purpose of the original answer.\n",
            "2. Use correct terminology (e.g., \"ramp\" instead of \"ramps\").\n",
            "3. Ensure grammar and punctuation are correct.\n",
            "4. Make the answer more concise and direct, removing unnecessary words.\n",
            "\n",
            "Refined Answer (Final Output): Industries is a game mode in Counter-Strike, in which players navigate through levels and complete tasks by sliding on surfaces. You need to be in a map with a lot of ramps and ramps that you can\n"
          ]
        }
      ]
    }
  ],
  "metadata": {
    "accelerator": "GPU",
    "colab": {
      "gpuType": "T4",
      "provenance": [],
      "authorship_tag": "ABX9TyPfxca0P5BbnVPdEzdenF/z",
      "include_colab_link": true
    },
    "kernelspec": {
      "display_name": "Python 3",
      "name": "python3"
    },
    "language_info": {
      "name": "python"
    },
    "widgets": {
      "application/vnd.jupyter.widget-state+json": {
        "5941d05ddb944540bc8ec5f09de246f1": {
          "model_module": "@jupyter-widgets/controls",
          "model_name": "HBoxModel",
          "model_module_version": "1.5.0",
          "state": {
            "_dom_classes": [],
            "_model_module": "@jupyter-widgets/controls",
            "_model_module_version": "1.5.0",
            "_model_name": "HBoxModel",
            "_view_count": null,
            "_view_module": "@jupyter-widgets/controls",
            "_view_module_version": "1.5.0",
            "_view_name": "HBoxView",
            "box_style": "",
            "children": [
              "IPY_MODEL_b6456a8375c2410298d3e2d92c0423e7",
              "IPY_MODEL_be944ede1332413eb17b58e82a22eb0f",
              "IPY_MODEL_31ddf246cc8e4520adcddf8dafcee579"
            ],
            "layout": "IPY_MODEL_d6e4c1387f924d6d834577c814700263"
          }
        },
        "b6456a8375c2410298d3e2d92c0423e7": {
          "model_module": "@jupyter-widgets/controls",
          "model_name": "HTMLModel",
          "model_module_version": "1.5.0",
          "state": {
            "_dom_classes": [],
            "_model_module": "@jupyter-widgets/controls",
            "_model_module_version": "1.5.0",
            "_model_name": "HTMLModel",
            "_view_count": null,
            "_view_module": "@jupyter-widgets/controls",
            "_view_module_version": "1.5.0",
            "_view_name": "HTMLView",
            "description": "",
            "description_tooltip": null,
            "layout": "IPY_MODEL_a7014d1239af4e4a8169bea824ed5c2a",
            "placeholder": "​",
            "style": "IPY_MODEL_8d55c9805f584816b043bdabac05bf1d",
            "value": "Loading checkpoint shards: 100%"
          }
        },
        "be944ede1332413eb17b58e82a22eb0f": {
          "model_module": "@jupyter-widgets/controls",
          "model_name": "FloatProgressModel",
          "model_module_version": "1.5.0",
          "state": {
            "_dom_classes": [],
            "_model_module": "@jupyter-widgets/controls",
            "_model_module_version": "1.5.0",
            "_model_name": "FloatProgressModel",
            "_view_count": null,
            "_view_module": "@jupyter-widgets/controls",
            "_view_module_version": "1.5.0",
            "_view_name": "ProgressView",
            "bar_style": "success",
            "description": "",
            "description_tooltip": null,
            "layout": "IPY_MODEL_199c9e56c4364759beb54bc81c1546d0",
            "max": 2,
            "min": 0,
            "orientation": "horizontal",
            "style": "IPY_MODEL_652725f5c4924bff9174832dde75c6b0",
            "value": 2
          }
        },
        "31ddf246cc8e4520adcddf8dafcee579": {
          "model_module": "@jupyter-widgets/controls",
          "model_name": "HTMLModel",
          "model_module_version": "1.5.0",
          "state": {
            "_dom_classes": [],
            "_model_module": "@jupyter-widgets/controls",
            "_model_module_version": "1.5.0",
            "_model_name": "HTMLModel",
            "_view_count": null,
            "_view_module": "@jupyter-widgets/controls",
            "_view_module_version": "1.5.0",
            "_view_name": "HTMLView",
            "description": "",
            "description_tooltip": null,
            "layout": "IPY_MODEL_87671a15dd044fa48223075613227b52",
            "placeholder": "​",
            "style": "IPY_MODEL_68ef926aadd445a183eb19a3ca1414a9",
            "value": " 2/2 [01:21&lt;00:00, 37.81s/it]"
          }
        },
        "d6e4c1387f924d6d834577c814700263": {
          "model_module": "@jupyter-widgets/base",
          "model_name": "LayoutModel",
          "model_module_version": "1.2.0",
          "state": {
            "_model_module": "@jupyter-widgets/base",
            "_model_module_version": "1.2.0",
            "_model_name": "LayoutModel",
            "_view_count": null,
            "_view_module": "@jupyter-widgets/base",
            "_view_module_version": "1.2.0",
            "_view_name": "LayoutView",
            "align_content": null,
            "align_items": null,
            "align_self": null,
            "border": null,
            "bottom": null,
            "display": null,
            "flex": null,
            "flex_flow": null,
            "grid_area": null,
            "grid_auto_columns": null,
            "grid_auto_flow": null,
            "grid_auto_rows": null,
            "grid_column": null,
            "grid_gap": null,
            "grid_row": null,
            "grid_template_areas": null,
            "grid_template_columns": null,
            "grid_template_rows": null,
            "height": null,
            "justify_content": null,
            "justify_items": null,
            "left": null,
            "margin": null,
            "max_height": null,
            "max_width": null,
            "min_height": null,
            "min_width": null,
            "object_fit": null,
            "object_position": null,
            "order": null,
            "overflow": null,
            "overflow_x": null,
            "overflow_y": null,
            "padding": null,
            "right": null,
            "top": null,
            "visibility": null,
            "width": null
          }
        },
        "a7014d1239af4e4a8169bea824ed5c2a": {
          "model_module": "@jupyter-widgets/base",
          "model_name": "LayoutModel",
          "model_module_version": "1.2.0",
          "state": {
            "_model_module": "@jupyter-widgets/base",
            "_model_module_version": "1.2.0",
            "_model_name": "LayoutModel",
            "_view_count": null,
            "_view_module": "@jupyter-widgets/base",
            "_view_module_version": "1.2.0",
            "_view_name": "LayoutView",
            "align_content": null,
            "align_items": null,
            "align_self": null,
            "border": null,
            "bottom": null,
            "display": null,
            "flex": null,
            "flex_flow": null,
            "grid_area": null,
            "grid_auto_columns": null,
            "grid_auto_flow": null,
            "grid_auto_rows": null,
            "grid_column": null,
            "grid_gap": null,
            "grid_row": null,
            "grid_template_areas": null,
            "grid_template_columns": null,
            "grid_template_rows": null,
            "height": null,
            "justify_content": null,
            "justify_items": null,
            "left": null,
            "margin": null,
            "max_height": null,
            "max_width": null,
            "min_height": null,
            "min_width": null,
            "object_fit": null,
            "object_position": null,
            "order": null,
            "overflow": null,
            "overflow_x": null,
            "overflow_y": null,
            "padding": null,
            "right": null,
            "top": null,
            "visibility": null,
            "width": null
          }
        },
        "8d55c9805f584816b043bdabac05bf1d": {
          "model_module": "@jupyter-widgets/controls",
          "model_name": "DescriptionStyleModel",
          "model_module_version": "1.5.0",
          "state": {
            "_model_module": "@jupyter-widgets/controls",
            "_model_module_version": "1.5.0",
            "_model_name": "DescriptionStyleModel",
            "_view_count": null,
            "_view_module": "@jupyter-widgets/base",
            "_view_module_version": "1.2.0",
            "_view_name": "StyleView",
            "description_width": ""
          }
        },
        "199c9e56c4364759beb54bc81c1546d0": {
          "model_module": "@jupyter-widgets/base",
          "model_name": "LayoutModel",
          "model_module_version": "1.2.0",
          "state": {
            "_model_module": "@jupyter-widgets/base",
            "_model_module_version": "1.2.0",
            "_model_name": "LayoutModel",
            "_view_count": null,
            "_view_module": "@jupyter-widgets/base",
            "_view_module_version": "1.2.0",
            "_view_name": "LayoutView",
            "align_content": null,
            "align_items": null,
            "align_self": null,
            "border": null,
            "bottom": null,
            "display": null,
            "flex": null,
            "flex_flow": null,
            "grid_area": null,
            "grid_auto_columns": null,
            "grid_auto_flow": null,
            "grid_auto_rows": null,
            "grid_column": null,
            "grid_gap": null,
            "grid_row": null,
            "grid_template_areas": null,
            "grid_template_columns": null,
            "grid_template_rows": null,
            "height": null,
            "justify_content": null,
            "justify_items": null,
            "left": null,
            "margin": null,
            "max_height": null,
            "max_width": null,
            "min_height": null,
            "min_width": null,
            "object_fit": null,
            "object_position": null,
            "order": null,
            "overflow": null,
            "overflow_x": null,
            "overflow_y": null,
            "padding": null,
            "right": null,
            "top": null,
            "visibility": null,
            "width": null
          }
        },
        "652725f5c4924bff9174832dde75c6b0": {
          "model_module": "@jupyter-widgets/controls",
          "model_name": "ProgressStyleModel",
          "model_module_version": "1.5.0",
          "state": {
            "_model_module": "@jupyter-widgets/controls",
            "_model_module_version": "1.5.0",
            "_model_name": "ProgressStyleModel",
            "_view_count": null,
            "_view_module": "@jupyter-widgets/base",
            "_view_module_version": "1.2.0",
            "_view_name": "StyleView",
            "bar_color": null,
            "description_width": ""
          }
        },
        "87671a15dd044fa48223075613227b52": {
          "model_module": "@jupyter-widgets/base",
          "model_name": "LayoutModel",
          "model_module_version": "1.2.0",
          "state": {
            "_model_module": "@jupyter-widgets/base",
            "_model_module_version": "1.2.0",
            "_model_name": "LayoutModel",
            "_view_count": null,
            "_view_module": "@jupyter-widgets/base",
            "_view_module_version": "1.2.0",
            "_view_name": "LayoutView",
            "align_content": null,
            "align_items": null,
            "align_self": null,
            "border": null,
            "bottom": null,
            "display": null,
            "flex": null,
            "flex_flow": null,
            "grid_area": null,
            "grid_auto_columns": null,
            "grid_auto_flow": null,
            "grid_auto_rows": null,
            "grid_column": null,
            "grid_gap": null,
            "grid_row": null,
            "grid_template_areas": null,
            "grid_template_columns": null,
            "grid_template_rows": null,
            "height": null,
            "justify_content": null,
            "justify_items": null,
            "left": null,
            "margin": null,
            "max_height": null,
            "max_width": null,
            "min_height": null,
            "min_width": null,
            "object_fit": null,
            "object_position": null,
            "order": null,
            "overflow": null,
            "overflow_x": null,
            "overflow_y": null,
            "padding": null,
            "right": null,
            "top": null,
            "visibility": null,
            "width": null
          }
        },
        "68ef926aadd445a183eb19a3ca1414a9": {
          "model_module": "@jupyter-widgets/controls",
          "model_name": "DescriptionStyleModel",
          "model_module_version": "1.5.0",
          "state": {
            "_model_module": "@jupyter-widgets/controls",
            "_model_module_version": "1.5.0",
            "_model_name": "DescriptionStyleModel",
            "_view_count": null,
            "_view_module": "@jupyter-widgets/base",
            "_view_module_version": "1.2.0",
            "_view_name": "StyleView",
            "description_width": ""
          }
        }
      }
    }
  },
  "nbformat": 4,
  "nbformat_minor": 0
}