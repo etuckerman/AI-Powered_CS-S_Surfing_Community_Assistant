{
  "nbformat": 4,
  "nbformat_minor": 0,
  "metadata": {
    "colab": {
      "provenance": [],
      "gpuType": "T4",
      "authorship_tag": "ABX9TyNHf3U25VidDRN/CL53ZAUg",
      "include_colab_link": true
    },
    "kernelspec": {
      "name": "python3",
      "display_name": "Python 3"
    },
    "language_info": {
      "name": "python"
    },
    "accelerator": "GPU",
    "widgets": {
      "application/vnd.jupyter.widget-state+json": {
        "d8a24251d02d434fba5b98ac38c360b4": {
          "model_module": "@jupyter-widgets/controls",
          "model_name": "VBoxModel",
          "model_module_version": "1.5.0",
          "state": {
            "_dom_classes": [],
            "_model_module": "@jupyter-widgets/controls",
            "_model_module_version": "1.5.0",
            "_model_name": "VBoxModel",
            "_view_count": null,
            "_view_module": "@jupyter-widgets/controls",
            "_view_module_version": "1.5.0",
            "_view_name": "VBoxView",
            "box_style": "",
            "children": [
              "IPY_MODEL_09fc888dfb804601ad0344126188d47a",
              "IPY_MODEL_44a02e3d825b4f61b987f50792b59697",
              "IPY_MODEL_e8dee8304efa422e90f8d24625b4040a",
              "IPY_MODEL_0ea4783423424957adc2cba9f0f604a0",
              "IPY_MODEL_6a71abbf7193424b86a0ea11b6888d9a"
            ],
            "layout": "IPY_MODEL_66b9ab5b1e474813bc57bce5e3212a2c"
          }
        },
        "09fc888dfb804601ad0344126188d47a": {
          "model_module": "@jupyter-widgets/controls",
          "model_name": "HTMLModel",
          "model_module_version": "1.5.0",
          "state": {
            "_dom_classes": [],
            "_model_module": "@jupyter-widgets/controls",
            "_model_module_version": "1.5.0",
            "_model_name": "HTMLModel",
            "_view_count": null,
            "_view_module": "@jupyter-widgets/controls",
            "_view_module_version": "1.5.0",
            "_view_name": "HTMLView",
            "description": "",
            "description_tooltip": null,
            "layout": "IPY_MODEL_51c55915eaf644c89bd62bec6e9289e3",
            "placeholder": "​",
            "style": "IPY_MODEL_15a55747115b4cee812e6a7aa982491e",
            "value": "<center> <img\nsrc=https://huggingface.co/front/assets/huggingface_logo-noborder.svg\nalt='Hugging Face'> <br> Copy a token from <a\nhref=\"https://huggingface.co/settings/tokens\" target=\"_blank\">your Hugging Face\ntokens page</a> and paste it below. <br> Immediately click login after copying\nyour token or it might be stored in plain text in this notebook file. </center>"
          }
        },
        "44a02e3d825b4f61b987f50792b59697": {
          "model_module": "@jupyter-widgets/controls",
          "model_name": "PasswordModel",
          "model_module_version": "1.5.0",
          "state": {
            "_dom_classes": [],
            "_model_module": "@jupyter-widgets/controls",
            "_model_module_version": "1.5.0",
            "_model_name": "PasswordModel",
            "_view_count": null,
            "_view_module": "@jupyter-widgets/controls",
            "_view_module_version": "1.5.0",
            "_view_name": "PasswordView",
            "continuous_update": true,
            "description": "Token:",
            "description_tooltip": null,
            "disabled": false,
            "layout": "IPY_MODEL_d224602234704d138479dcd6d314ed6e",
            "placeholder": "​",
            "style": "IPY_MODEL_31f2247555b14cc786ab2d4239ab9dab",
            "value": ""
          }
        },
        "e8dee8304efa422e90f8d24625b4040a": {
          "model_module": "@jupyter-widgets/controls",
          "model_name": "CheckboxModel",
          "model_module_version": "1.5.0",
          "state": {
            "_dom_classes": [],
            "_model_module": "@jupyter-widgets/controls",
            "_model_module_version": "1.5.0",
            "_model_name": "CheckboxModel",
            "_view_count": null,
            "_view_module": "@jupyter-widgets/controls",
            "_view_module_version": "1.5.0",
            "_view_name": "CheckboxView",
            "description": "Add token as git credential?",
            "description_tooltip": null,
            "disabled": false,
            "indent": true,
            "layout": "IPY_MODEL_59b90688c4f74e2eb34cb470f9a1e7de",
            "style": "IPY_MODEL_2f3f2eb06dac4e319567132480a4a618",
            "value": true
          }
        },
        "0ea4783423424957adc2cba9f0f604a0": {
          "model_module": "@jupyter-widgets/controls",
          "model_name": "ButtonModel",
          "model_module_version": "1.5.0",
          "state": {
            "_dom_classes": [],
            "_model_module": "@jupyter-widgets/controls",
            "_model_module_version": "1.5.0",
            "_model_name": "ButtonModel",
            "_view_count": null,
            "_view_module": "@jupyter-widgets/controls",
            "_view_module_version": "1.5.0",
            "_view_name": "ButtonView",
            "button_style": "",
            "description": "Login",
            "disabled": false,
            "icon": "",
            "layout": "IPY_MODEL_bda4f7dd147a42fdb4430d2adda11a46",
            "style": "IPY_MODEL_47d7e395b4364a08b5380afeb120609f",
            "tooltip": ""
          }
        },
        "6a71abbf7193424b86a0ea11b6888d9a": {
          "model_module": "@jupyter-widgets/controls",
          "model_name": "HTMLModel",
          "model_module_version": "1.5.0",
          "state": {
            "_dom_classes": [],
            "_model_module": "@jupyter-widgets/controls",
            "_model_module_version": "1.5.0",
            "_model_name": "HTMLModel",
            "_view_count": null,
            "_view_module": "@jupyter-widgets/controls",
            "_view_module_version": "1.5.0",
            "_view_name": "HTMLView",
            "description": "",
            "description_tooltip": null,
            "layout": "IPY_MODEL_5f01909a71a24412929a9361baf9cd70",
            "placeholder": "​",
            "style": "IPY_MODEL_d44ebe7dadb944f6b2fe879c3e159f7e",
            "value": "\n<b>Pro Tip:</b> If you don't already have one, you can create a dedicated\n'notebooks' token with 'write' access, that you can then easily reuse for all\nnotebooks. </center>"
          }
        },
        "66b9ab5b1e474813bc57bce5e3212a2c": {
          "model_module": "@jupyter-widgets/base",
          "model_name": "LayoutModel",
          "model_module_version": "1.2.0",
          "state": {
            "_model_module": "@jupyter-widgets/base",
            "_model_module_version": "1.2.0",
            "_model_name": "LayoutModel",
            "_view_count": null,
            "_view_module": "@jupyter-widgets/base",
            "_view_module_version": "1.2.0",
            "_view_name": "LayoutView",
            "align_content": null,
            "align_items": "center",
            "align_self": null,
            "border": null,
            "bottom": null,
            "display": "flex",
            "flex": null,
            "flex_flow": "column",
            "grid_area": null,
            "grid_auto_columns": null,
            "grid_auto_flow": null,
            "grid_auto_rows": null,
            "grid_column": null,
            "grid_gap": null,
            "grid_row": null,
            "grid_template_areas": null,
            "grid_template_columns": null,
            "grid_template_rows": null,
            "height": null,
            "justify_content": null,
            "justify_items": null,
            "left": null,
            "margin": null,
            "max_height": null,
            "max_width": null,
            "min_height": null,
            "min_width": null,
            "object_fit": null,
            "object_position": null,
            "order": null,
            "overflow": null,
            "overflow_x": null,
            "overflow_y": null,
            "padding": null,
            "right": null,
            "top": null,
            "visibility": null,
            "width": "50%"
          }
        },
        "51c55915eaf644c89bd62bec6e9289e3": {
          "model_module": "@jupyter-widgets/base",
          "model_name": "LayoutModel",
          "model_module_version": "1.2.0",
          "state": {
            "_model_module": "@jupyter-widgets/base",
            "_model_module_version": "1.2.0",
            "_model_name": "LayoutModel",
            "_view_count": null,
            "_view_module": "@jupyter-widgets/base",
            "_view_module_version": "1.2.0",
            "_view_name": "LayoutView",
            "align_content": null,
            "align_items": null,
            "align_self": null,
            "border": null,
            "bottom": null,
            "display": null,
            "flex": null,
            "flex_flow": null,
            "grid_area": null,
            "grid_auto_columns": null,
            "grid_auto_flow": null,
            "grid_auto_rows": null,
            "grid_column": null,
            "grid_gap": null,
            "grid_row": null,
            "grid_template_areas": null,
            "grid_template_columns": null,
            "grid_template_rows": null,
            "height": null,
            "justify_content": null,
            "justify_items": null,
            "left": null,
            "margin": null,
            "max_height": null,
            "max_width": null,
            "min_height": null,
            "min_width": null,
            "object_fit": null,
            "object_position": null,
            "order": null,
            "overflow": null,
            "overflow_x": null,
            "overflow_y": null,
            "padding": null,
            "right": null,
            "top": null,
            "visibility": null,
            "width": null
          }
        },
        "15a55747115b4cee812e6a7aa982491e": {
          "model_module": "@jupyter-widgets/controls",
          "model_name": "DescriptionStyleModel",
          "model_module_version": "1.5.0",
          "state": {
            "_model_module": "@jupyter-widgets/controls",
            "_model_module_version": "1.5.0",
            "_model_name": "DescriptionStyleModel",
            "_view_count": null,
            "_view_module": "@jupyter-widgets/base",
            "_view_module_version": "1.2.0",
            "_view_name": "StyleView",
            "description_width": ""
          }
        },
        "d224602234704d138479dcd6d314ed6e": {
          "model_module": "@jupyter-widgets/base",
          "model_name": "LayoutModel",
          "model_module_version": "1.2.0",
          "state": {
            "_model_module": "@jupyter-widgets/base",
            "_model_module_version": "1.2.0",
            "_model_name": "LayoutModel",
            "_view_count": null,
            "_view_module": "@jupyter-widgets/base",
            "_view_module_version": "1.2.0",
            "_view_name": "LayoutView",
            "align_content": null,
            "align_items": null,
            "align_self": null,
            "border": null,
            "bottom": null,
            "display": null,
            "flex": null,
            "flex_flow": null,
            "grid_area": null,
            "grid_auto_columns": null,
            "grid_auto_flow": null,
            "grid_auto_rows": null,
            "grid_column": null,
            "grid_gap": null,
            "grid_row": null,
            "grid_template_areas": null,
            "grid_template_columns": null,
            "grid_template_rows": null,
            "height": null,
            "justify_content": null,
            "justify_items": null,
            "left": null,
            "margin": null,
            "max_height": null,
            "max_width": null,
            "min_height": null,
            "min_width": null,
            "object_fit": null,
            "object_position": null,
            "order": null,
            "overflow": null,
            "overflow_x": null,
            "overflow_y": null,
            "padding": null,
            "right": null,
            "top": null,
            "visibility": null,
            "width": null
          }
        },
        "31f2247555b14cc786ab2d4239ab9dab": {
          "model_module": "@jupyter-widgets/controls",
          "model_name": "DescriptionStyleModel",
          "model_module_version": "1.5.0",
          "state": {
            "_model_module": "@jupyter-widgets/controls",
            "_model_module_version": "1.5.0",
            "_model_name": "DescriptionStyleModel",
            "_view_count": null,
            "_view_module": "@jupyter-widgets/base",
            "_view_module_version": "1.2.0",
            "_view_name": "StyleView",
            "description_width": ""
          }
        },
        "59b90688c4f74e2eb34cb470f9a1e7de": {
          "model_module": "@jupyter-widgets/base",
          "model_name": "LayoutModel",
          "model_module_version": "1.2.0",
          "state": {
            "_model_module": "@jupyter-widgets/base",
            "_model_module_version": "1.2.0",
            "_model_name": "LayoutModel",
            "_view_count": null,
            "_view_module": "@jupyter-widgets/base",
            "_view_module_version": "1.2.0",
            "_view_name": "LayoutView",
            "align_content": null,
            "align_items": null,
            "align_self": null,
            "border": null,
            "bottom": null,
            "display": null,
            "flex": null,
            "flex_flow": null,
            "grid_area": null,
            "grid_auto_columns": null,
            "grid_auto_flow": null,
            "grid_auto_rows": null,
            "grid_column": null,
            "grid_gap": null,
            "grid_row": null,
            "grid_template_areas": null,
            "grid_template_columns": null,
            "grid_template_rows": null,
            "height": null,
            "justify_content": null,
            "justify_items": null,
            "left": null,
            "margin": null,
            "max_height": null,
            "max_width": null,
            "min_height": null,
            "min_width": null,
            "object_fit": null,
            "object_position": null,
            "order": null,
            "overflow": null,
            "overflow_x": null,
            "overflow_y": null,
            "padding": null,
            "right": null,
            "top": null,
            "visibility": null,
            "width": null
          }
        },
        "2f3f2eb06dac4e319567132480a4a618": {
          "model_module": "@jupyter-widgets/controls",
          "model_name": "DescriptionStyleModel",
          "model_module_version": "1.5.0",
          "state": {
            "_model_module": "@jupyter-widgets/controls",
            "_model_module_version": "1.5.0",
            "_model_name": "DescriptionStyleModel",
            "_view_count": null,
            "_view_module": "@jupyter-widgets/base",
            "_view_module_version": "1.2.0",
            "_view_name": "StyleView",
            "description_width": ""
          }
        },
        "bda4f7dd147a42fdb4430d2adda11a46": {
          "model_module": "@jupyter-widgets/base",
          "model_name": "LayoutModel",
          "model_module_version": "1.2.0",
          "state": {
            "_model_module": "@jupyter-widgets/base",
            "_model_module_version": "1.2.0",
            "_model_name": "LayoutModel",
            "_view_count": null,
            "_view_module": "@jupyter-widgets/base",
            "_view_module_version": "1.2.0",
            "_view_name": "LayoutView",
            "align_content": null,
            "align_items": null,
            "align_self": null,
            "border": null,
            "bottom": null,
            "display": null,
            "flex": null,
            "flex_flow": null,
            "grid_area": null,
            "grid_auto_columns": null,
            "grid_auto_flow": null,
            "grid_auto_rows": null,
            "grid_column": null,
            "grid_gap": null,
            "grid_row": null,
            "grid_template_areas": null,
            "grid_template_columns": null,
            "grid_template_rows": null,
            "height": null,
            "justify_content": null,
            "justify_items": null,
            "left": null,
            "margin": null,
            "max_height": null,
            "max_width": null,
            "min_height": null,
            "min_width": null,
            "object_fit": null,
            "object_position": null,
            "order": null,
            "overflow": null,
            "overflow_x": null,
            "overflow_y": null,
            "padding": null,
            "right": null,
            "top": null,
            "visibility": null,
            "width": null
          }
        },
        "47d7e395b4364a08b5380afeb120609f": {
          "model_module": "@jupyter-widgets/controls",
          "model_name": "ButtonStyleModel",
          "model_module_version": "1.5.0",
          "state": {
            "_model_module": "@jupyter-widgets/controls",
            "_model_module_version": "1.5.0",
            "_model_name": "ButtonStyleModel",
            "_view_count": null,
            "_view_module": "@jupyter-widgets/base",
            "_view_module_version": "1.2.0",
            "_view_name": "StyleView",
            "button_color": null,
            "font_weight": ""
          }
        },
        "5f01909a71a24412929a9361baf9cd70": {
          "model_module": "@jupyter-widgets/base",
          "model_name": "LayoutModel",
          "model_module_version": "1.2.0",
          "state": {
            "_model_module": "@jupyter-widgets/base",
            "_model_module_version": "1.2.0",
            "_model_name": "LayoutModel",
            "_view_count": null,
            "_view_module": "@jupyter-widgets/base",
            "_view_module_version": "1.2.0",
            "_view_name": "LayoutView",
            "align_content": null,
            "align_items": null,
            "align_self": null,
            "border": null,
            "bottom": null,
            "display": null,
            "flex": null,
            "flex_flow": null,
            "grid_area": null,
            "grid_auto_columns": null,
            "grid_auto_flow": null,
            "grid_auto_rows": null,
            "grid_column": null,
            "grid_gap": null,
            "grid_row": null,
            "grid_template_areas": null,
            "grid_template_columns": null,
            "grid_template_rows": null,
            "height": null,
            "justify_content": null,
            "justify_items": null,
            "left": null,
            "margin": null,
            "max_height": null,
            "max_width": null,
            "min_height": null,
            "min_width": null,
            "object_fit": null,
            "object_position": null,
            "order": null,
            "overflow": null,
            "overflow_x": null,
            "overflow_y": null,
            "padding": null,
            "right": null,
            "top": null,
            "visibility": null,
            "width": null
          }
        },
        "d44ebe7dadb944f6b2fe879c3e159f7e": {
          "model_module": "@jupyter-widgets/controls",
          "model_name": "DescriptionStyleModel",
          "model_module_version": "1.5.0",
          "state": {
            "_model_module": "@jupyter-widgets/controls",
            "_model_module_version": "1.5.0",
            "_model_name": "DescriptionStyleModel",
            "_view_count": null,
            "_view_module": "@jupyter-widgets/base",
            "_view_module_version": "1.2.0",
            "_view_name": "StyleView",
            "description_width": ""
          }
        }
      }
    }
  },
  "cells": [
    {
      "cell_type": "markdown",
      "metadata": {
        "id": "view-in-github",
        "colab_type": "text"
      },
      "source": [
        "<a href=\"https://colab.research.google.com/github/etuckerman/surf_NLP/blob/main/surf_NLP.ipynb\" target=\"_parent\"><img src=\"https://colab.research.google.com/assets/colab-badge.svg\" alt=\"Open In Colab\"/></a>"
      ]
    },
    {
      "cell_type": "markdown",
      "source": [
        "# **Log into HuggingFace**"
      ],
      "metadata": {
        "id": "vlEY_pdmRhwL"
      }
    },
    {
      "cell_type": "code",
      "source": [
        "from huggingface_hub import notebook_login\n",
        "\n",
        "notebook_login()"
      ],
      "metadata": {
        "colab": {
          "base_uri": "https://localhost:8080/",
          "height": 331,
          "referenced_widgets": [
            "d8a24251d02d434fba5b98ac38c360b4",
            "09fc888dfb804601ad0344126188d47a",
            "44a02e3d825b4f61b987f50792b59697",
            "e8dee8304efa422e90f8d24625b4040a",
            "0ea4783423424957adc2cba9f0f604a0",
            "6a71abbf7193424b86a0ea11b6888d9a",
            "66b9ab5b1e474813bc57bce5e3212a2c",
            "51c55915eaf644c89bd62bec6e9289e3",
            "15a55747115b4cee812e6a7aa982491e",
            "d224602234704d138479dcd6d314ed6e",
            "31f2247555b14cc786ab2d4239ab9dab",
            "59b90688c4f74e2eb34cb470f9a1e7de",
            "2f3f2eb06dac4e319567132480a4a618",
            "bda4f7dd147a42fdb4430d2adda11a46",
            "47d7e395b4364a08b5380afeb120609f",
            "5f01909a71a24412929a9361baf9cd70",
            "d44ebe7dadb944f6b2fe879c3e159f7e"
          ]
        },
        "id": "90E__90_RnQe",
        "outputId": "8cb6dcca-beb8-401a-fc1d-ea7cc92cb9cf"
      },
      "execution_count": 1,
      "outputs": [
        {
          "output_type": "display_data",
          "data": {
            "text/plain": [
              "VBox(children=(HTML(value='<center> <img\\nsrc=https://huggingface.co/front/assets/huggingface_logo-noborder.sv…"
            ],
            "application/vnd.jupyter.widget-view+json": {
              "version_major": 2,
              "version_minor": 0,
              "model_id": "d8a24251d02d434fba5b98ac38c360b4"
            }
          },
          "metadata": {}
        }
      ]
    },
    {
      "cell_type": "code",
      "source": [
        "!pip install tqdm"
      ],
      "metadata": {
        "colab": {
          "base_uri": "https://localhost:8080/"
        },
        "id": "Jx7uYVvmmY9_",
        "outputId": "2789e157-814f-4523-8a63-ce5639620e78"
      },
      "execution_count": 2,
      "outputs": [
        {
          "output_type": "stream",
          "name": "stdout",
          "text": [
            "Requirement already satisfied: tqdm in /usr/local/lib/python3.10/dist-packages (4.66.2)\n"
          ]
        }
      ]
    },
    {
      "cell_type": "code",
      "source": [
        "import csv\n",
        "from spacy.lang.en import English\n",
        "from gensim import corpora, models\n",
        "from tqdm import tqdm\n",
        "\n"
      ],
      "metadata": {
        "id": "LfOEGvhcep0D"
      },
      "execution_count": 3,
      "outputs": []
    },
    {
      "cell_type": "code",
      "source": [
        "# Assuming data_path is already defined (replace with your actual path)\n",
        "data_path = \"/content/surf_messages.csv\""
      ],
      "metadata": {
        "id": "TiP6xjEhr6zp"
      },
      "execution_count": 4,
      "outputs": []
    },
    {
      "cell_type": "code",
      "source": [
        "\n",
        "\n",
        "def load_messages_from_csv(file_path):\n",
        "    \"\"\"\n",
        "    This function loads messages from a CSV file.\n",
        "\n",
        "    Args:\n",
        "        file_path: The path to the CSV file.\n",
        "\n",
        "    Returns:\n",
        "        A list of messages.\n",
        "    \"\"\"\n",
        "    messages = []\n",
        "    with open(file_path, 'r', encoding='utf-8') as file:\n",
        "        reader = csv.DictReader(file)\n",
        "        for row in reader:\n",
        "            messages.append(row['Message'])\n",
        "    return messages\n",
        "\n",
        "# Load messages from CSV file\n",
        "csv_file_path = 'surf_messages.csv'\n",
        "messages = load_messages_from_csv(csv_file_path)\n",
        "\n",
        "# Now you have the messages loaded from the CSV file\n"
      ],
      "metadata": {
        "id": "Z6pfN9lsadBG"
      },
      "execution_count": 5,
      "outputs": []
    },
    {
      "cell_type": "code",
      "source": [
        "def load_data(data_path):\n",
        "  \"\"\"\n",
        "  This function loads data from a CSV file.\n",
        "\n",
        "  Args:\n",
        "      data_path: The path to the CSV file containing chat data.\n",
        "\n",
        "  Returns:\n",
        "      A list of dictionaries, where each dictionary represents a row in the CSV file.\n",
        "  \"\"\"\n",
        "  data = []\n",
        "  try:\n",
        "    print(\"Opening CSV file...\")\n",
        "    with open(data_path, 'r', encoding='utf-8') as csvfile:\n",
        "      reader = csv.DictReader(csvfile)\n",
        "      for row in reader:\n",
        "        data.append(row)\n",
        "  except FileNotFoundError:\n",
        "    print(\"Error: Could not find the data file. Please check the path and try again.\")\n",
        "    exit()\n",
        "  return data"
      ],
      "metadata": {
        "id": "7a6n-jHWlXeg"
      },
      "execution_count": 6,
      "outputs": []
    },
    {
      "cell_type": "code",
      "source": [
        "def preprocess_data(data, message_column=\"Message\"):\n",
        "    \"\"\"\n",
        "    This function preprocesses text data from a list of dictionaries.\n",
        "\n",
        "    Args:\n",
        "        data: A list of dictionaries, where each dictionary represents a row in the CSV file.\n",
        "        message_column: The name of the column containing the message text (default is \"Message\").\n",
        "\n",
        "    Returns:\n",
        "        A list of cleaned text messages.\n",
        "    \"\"\"\n",
        "    cleaned_data = []\n",
        "    print(\"Cleaning messages...\")\n",
        "    for message_dict in data:\n",
        "        message = message_dict.get(message_column, \"\")  # Get message with default empty string if missing\n",
        "        if not message:\n",
        "            print(f\"Warning: Empty message found in a row.\")\n",
        "            continue\n",
        "\n",
        "        # Perform cleaning here (e.g., convert to lowercase, remove punctuation)\n",
        "        clean_message = clean_text(message)  # Assuming clean_text is defined elsewhere\n",
        "        cleaned_data.append(clean_message)\n",
        "    return cleaned_data\n"
      ],
      "metadata": {
        "id": "j9pR58aIsYfz"
      },
      "execution_count": 7,
      "outputs": []
    },
    {
      "cell_type": "code",
      "source": [
        "\n",
        "def clean_text(text):\n",
        "  \"\"\"\n",
        "  This function cleans text data by removing punctuation, stop words, and converting to lemmas.\n",
        "\n",
        "  Args:\n",
        "      text: The text string to be cleaned.\n",
        "\n",
        "  Returns:\n",
        "      A cleaned text string.\n",
        "  \"\"\"\n",
        "  nlp = English()\n",
        "  tokens = nlp(text.lower())\n",
        "  clean_tokens = [token.lemma_ for token in tokens if not token.is_stop and not token.is_punct]\n",
        "  return clean_tokens\n",
        "\n"
      ],
      "metadata": {
        "id": "VpQ57_Gue0Re"
      },
      "execution_count": 17,
      "outputs": []
    },
    {
      "cell_type": "code",
      "source": [
        "def perform_topic_modeling(preprocessed_data, num_topics=15):\n",
        "  \"\"\"\n",
        "  This function performs topic modeling on the preprocessed data using LDA.\n",
        "\n",
        "  Args:\n",
        "      preprocessed_data: A list of cleaned text messages.\n",
        "      num_topics: The number of topics to identify (default 15).\n",
        "\n",
        "  Returns:\n",
        "      A dictionary containing the LDA model and id2word mapping.\n",
        "  \"\"\"\n",
        "  dictionary = corpora.Dictionary(preprocessed_data)\n",
        "  corpus = [dictionary.doc2bow(text) for text in preprocessed_data]\n",
        "  ldamodel = models.LdaModel(corpus, id2word=dictionary, num_topics=num_topics)\n",
        "  return {'model': ldamodel, 'id2word': dictionary.id2word}\n"
      ],
      "metadata": {
        "id": "rVz4Httne4G4"
      },
      "execution_count": 9,
      "outputs": []
    },
    {
      "cell_type": "code",
      "source": [
        "# Replace with your function to identify potential questions (consider conversation flow)\n",
        "def is_question(message):\n",
        "  \"\"\"\n",
        "  This function checks if a message is a question based on patterns.\n",
        "\n",
        "  Args:\n",
        "      message: The text message to be analyzed.\n",
        "\n",
        "  Returns:\n",
        "      True if the message is a question, False otherwise.\n",
        "  \"\"\"\n",
        "  question_words = [\"help\", \"tip\", \"best\", \"smoke\", \"nade\", \"flash\", \"fire\", \"pop\", \"molly\", \"decoy\", \"inferno\", \"mirage\", \"dust2\", \"overpass\", \"nuke\", \"cache\", \"train\", \" Vertigo\", \"cobblestone\", \"office\", \"cache\", \"office\", \"vertigo\", \"cobblestone\", \"how\", \"what\", \"where\", \"when\", \"why\", \"can\", \"could\", \"should\", \"which\", \"do\", \"be\", \"would\"]\n",
        "  return any(word in message.lower() for word in question_words) or \"?\" in message.lower()\n",
        "\n",
        "def get_qna_pairs(data, window_size=10):\n",
        "  \"\"\"\n",
        "  This function identifies potential question-answer pairs within a time window.\n",
        "\n",
        "  Args:\n",
        "      data: A list containing all cleaned chat messages.\n",
        "      window_size: The size of the time window to consider after a question (default 10 messages).\n",
        "\n",
        "  Returns:\n",
        "      A list of potential question-answer pairs as tuples (question, answer).\n",
        "  \"\"\"\n",
        "  qna_pairs = []\n",
        "  for i in range(len(data)):\n",
        "    if is_question(data[i]):  # Check if current message is a question\n",
        "      # Look for answers within the window\n",
        "      for j in range(i + 1, min(i + window_size + 1, len(data))):\n",
        "        qna_pairs.append((data[i], data[j]))  # Add potential question-answer pair\n",
        "  return qna_pairs\n"
      ],
      "metadata": {
        "id": "kyufLejce7XB"
      },
      "execution_count": 10,
      "outputs": []
    },
    {
      "cell_type": "code",
      "source": [
        "# Placeholder function for answer relevance (replace with your logic)\n",
        "def is_answer_relevant(question, answer):\n",
        "  \"\"\"\n",
        "  This function checks if an answer is potentially relevant to the question based on keywords.\n",
        "\n",
        "  Args:\n",
        "      question: The user's question.\n",
        "      answer: The potential answer message.\n",
        "\n",
        "  Returns:\n",
        "      True if the answer seems relevant, False otherwise (replace with your logic).\n",
        "  \"\"\"\n",
        "  # This is a basic example using keywords in the answer. You can improve this!\n",
        "  question_words = question.lower().split()\n",
        "  answer_words = answer.lower().split()\n",
        "  return any(word in answer_words for word in question_words)\n"
      ],
      "metadata": {
        "id": "sxz-azNdfWI9"
      },
      "execution_count": 11,
      "outputs": []
    },
    {
      "cell_type": "code",
      "source": [
        "# Define preprocessed_data as an empty list\n",
        "preprocessed_data = []\n",
        "\n",
        "print(data_path)\n",
        "print(preprocessed_data)"
      ],
      "metadata": {
        "colab": {
          "base_uri": "https://localhost:8080/"
        },
        "id": "iOWlG1BAlBdB",
        "outputId": "53ff9b11-f97d-4bcf-86a9-7ec992a06b27"
      },
      "execution_count": 12,
      "outputs": [
        {
          "output_type": "stream",
          "name": "stdout",
          "text": [
            "/content/surf_messages.csv\n",
            "[]\n"
          ]
        }
      ]
    },
    {
      "cell_type": "code",
      "source": [
        "# Define functions not implemented yet (replace with their logic)\n",
        "def get_dominant_topic(message, ldamodel, id2word):\n",
        "  \"\"\"\n",
        "  This function identifies the most dominant topic for a message using LDA.\n",
        "\n",
        "  Args:\n",
        "      message: The text message for which to identify the dominant topic.\n",
        "      ldamodel: The trained LDA model.\n",
        "      id2word: The id2word mapping from the LDA model.\n",
        "\n",
        "  Returns:\n",
        "      The index of the most dominant topic.\n",
        "  \"\"\"\n",
        "  bow = dictionary.doc2bow(clean_text(message))  # Assuming clean_text is defined\n",
        "  topics = ldamodel[bow]  # Get topic distribution for the message\n",
        "  dominant_topic_index = max(enumerate(topics), key=lambda x: x[1])[0]  # Find the topic with the highest probability\n",
        "  return dominant_topic_index\n"
      ],
      "metadata": {
        "id": "GGcR9s8qe86w"
      },
      "execution_count": 13,
      "outputs": []
    },
    {
      "cell_type": "code",
      "source": [
        "def find_answers(question, topic_index, qna_pairs, is_answer_relevant):\n",
        "  \"\"\"\n",
        "  This function finds potential answers for a question based on topic and conversation flow.\n",
        "\n",
        "  Args:\n",
        "      question: The user's question.\n",
        "      topic_index: The index of the most dominant topic for the question.\n",
        "      qna_pairs: A list of potential question-answer pairs.\n",
        "      is_answer_relevant: A function to check answer relevance (replace with your implementation).\n",
        "\n",
        "  Returns:\n",
        "      A list of potential answer messages.\n",
        "  \"\"\"\n",
        "  answers = []\n",
        "  for qna_pair in qna_pairs:\n",
        "      q, a = qna_pair\n",
        "      if get_dominant_topic(q, ldamodel, id2word) == topic_index and is_answer_relevant(question, a):  # Check topic and answer relevance\n",
        "          answers.append(a)\n",
        "  return answers\n"
      ],
      "metadata": {
        "id": "M2oImnS3oGOe"
      },
      "execution_count": 14,
      "outputs": []
    },
    {
      "cell_type": "code",
      "source": [
        "# Load data from CSV file\n",
        "data = load_data(data_path)\n",
        "\n",
        "# Preprocess the loaded data (clean text)\n",
        "preprocessed_data = preprocess_data(data)\n",
        "\n",
        "# Use the cleaned_data for further processing (e.g., LDA model)"
      ],
      "metadata": {
        "id": "5MhjT6jWoKFY",
        "outputId": "fa8bf093-99f3-4ff0-b560-480dfb3547b9",
        "colab": {
          "base_uri": "https://localhost:8080/"
        }
      },
      "execution_count": 18,
      "outputs": [
        {
          "output_type": "stream",
          "name": "stdout",
          "text": [
            "Opening CSV file...\n",
            "Cleaning messages...\n",
            "Warning: Empty message found in a row.\n",
            "Warning: Empty message found in a row.\n",
            "Warning: Empty message found in a row.\n",
            "Warning: Empty message found in a row.\n",
            "Warning: Empty message found in a row.\n",
            "Warning: Empty message found in a row.\n",
            "Warning: Empty message found in a row.\n",
            "Warning: Empty message found in a row.\n",
            "Warning: Empty message found in a row.\n",
            "Warning: Empty message found in a row.\n",
            "Warning: Empty message found in a row.\n",
            "Warning: Empty message found in a row.\n",
            "Warning: Empty message found in a row.\n",
            "Warning: Empty message found in a row.\n",
            "Warning: Empty message found in a row.\n",
            "Warning: Empty message found in a row.\n",
            "Warning: Empty message found in a row.\n",
            "Warning: Empty message found in a row.\n",
            "Warning: Empty message found in a row.\n",
            "Warning: Empty message found in a row.\n",
            "Warning: Empty message found in a row.\n",
            "Warning: Empty message found in a row.\n",
            "Warning: Empty message found in a row.\n",
            "Warning: Empty message found in a row.\n",
            "Warning: Empty message found in a row.\n",
            "Warning: Empty message found in a row.\n",
            "Warning: Empty message found in a row.\n",
            "Warning: Empty message found in a row.\n",
            "Warning: Empty message found in a row.\n",
            "Warning: Empty message found in a row.\n",
            "Warning: Empty message found in a row.\n",
            "Warning: Empty message found in a row.\n",
            "Warning: Empty message found in a row.\n",
            "Warning: Empty message found in a row.\n",
            "Warning: Empty message found in a row.\n",
            "Warning: Empty message found in a row.\n",
            "Warning: Empty message found in a row.\n",
            "Warning: Empty message found in a row.\n",
            "Warning: Empty message found in a row.\n",
            "Warning: Empty message found in a row.\n",
            "Warning: Empty message found in a row.\n",
            "Warning: Empty message found in a row.\n",
            "Warning: Empty message found in a row.\n",
            "Warning: Empty message found in a row.\n",
            "Warning: Empty message found in a row.\n",
            "Warning: Empty message found in a row.\n",
            "Warning: Empty message found in a row.\n",
            "Warning: Empty message found in a row.\n",
            "Warning: Empty message found in a row.\n",
            "Warning: Empty message found in a row.\n",
            "Warning: Empty message found in a row.\n",
            "Warning: Empty message found in a row.\n",
            "Warning: Empty message found in a row.\n",
            "Warning: Empty message found in a row.\n",
            "Warning: Empty message found in a row.\n",
            "Warning: Empty message found in a row.\n",
            "Warning: Empty message found in a row.\n",
            "Warning: Empty message found in a row.\n",
            "Warning: Empty message found in a row.\n",
            "Warning: Empty message found in a row.\n",
            "Warning: Empty message found in a row.\n",
            "Warning: Empty message found in a row.\n",
            "Warning: Empty message found in a row.\n",
            "Warning: Empty message found in a row.\n",
            "Warning: Empty message found in a row.\n",
            "Warning: Empty message found in a row.\n",
            "Warning: Empty message found in a row.\n",
            "Warning: Empty message found in a row.\n",
            "Warning: Empty message found in a row.\n",
            "Warning: Empty message found in a row.\n",
            "Warning: Empty message found in a row.\n",
            "Warning: Empty message found in a row.\n",
            "Warning: Empty message found in a row.\n",
            "Warning: Empty message found in a row.\n",
            "Warning: Empty message found in a row.\n",
            "Warning: Empty message found in a row.\n",
            "Warning: Empty message found in a row.\n",
            "Warning: Empty message found in a row.\n",
            "Warning: Empty message found in a row.\n",
            "Warning: Empty message found in a row.\n",
            "Warning: Empty message found in a row.\n",
            "Warning: Empty message found in a row.\n",
            "Warning: Empty message found in a row.\n",
            "Warning: Empty message found in a row.\n",
            "Warning: Empty message found in a row.\n",
            "Warning: Empty message found in a row.\n",
            "Warning: Empty message found in a row.\n",
            "Warning: Empty message found in a row.\n",
            "Warning: Empty message found in a row.\n",
            "Warning: Empty message found in a row.\n",
            "Warning: Empty message found in a row.\n",
            "Warning: Empty message found in a row.\n",
            "Warning: Empty message found in a row.\n",
            "Warning: Empty message found in a row.\n",
            "Warning: Empty message found in a row.\n",
            "Warning: Empty message found in a row.\n",
            "Warning: Empty message found in a row.\n",
            "Warning: Empty message found in a row.\n",
            "Warning: Empty message found in a row.\n",
            "Warning: Empty message found in a row.\n",
            "Warning: Empty message found in a row.\n",
            "Warning: Empty message found in a row.\n",
            "Warning: Empty message found in a row.\n",
            "Warning: Empty message found in a row.\n",
            "Warning: Empty message found in a row.\n",
            "Warning: Empty message found in a row.\n",
            "Warning: Empty message found in a row.\n",
            "Warning: Empty message found in a row.\n"
          ]
        }
      ]
    },
    {
      "cell_type": "code",
      "source": [
        "# Perform topic modeling (assuming you want 15 topics, adjust if desired)\n",
        "topic_modeling_results = perform_topic_modeling(preprocessed_data)\n",
        "ldamodel = topic_modeling_results['model']\n",
        "id2word = topic_modeling_results['id2word']"
      ],
      "metadata": {
        "id": "NZKDhC_UoL8N",
        "outputId": "6b2db845-88c3-48fd-9dda-68e4b229d980",
        "colab": {
          "base_uri": "https://localhost:8080/",
          "height": 339
        }
      },
      "execution_count": 16,
      "outputs": [
        {
          "output_type": "error",
          "ename": "TypeError",
          "evalue": "doc2bow expects an array of unicode tokens on input, not a single string",
          "traceback": [
            "\u001b[0;31m---------------------------------------------------------------------------\u001b[0m",
            "\u001b[0;31mTypeError\u001b[0m                                 Traceback (most recent call last)",
            "\u001b[0;32m<ipython-input-16-86273fc78c9e>\u001b[0m in \u001b[0;36m<cell line: 2>\u001b[0;34m()\u001b[0m\n\u001b[1;32m      1\u001b[0m \u001b[0;31m# Perform topic modeling (assuming you want 15 topics, adjust if desired)\u001b[0m\u001b[0;34m\u001b[0m\u001b[0;34m\u001b[0m\u001b[0m\n\u001b[0;32m----> 2\u001b[0;31m \u001b[0mtopic_modeling_results\u001b[0m \u001b[0;34m=\u001b[0m \u001b[0mperform_topic_modeling\u001b[0m\u001b[0;34m(\u001b[0m\u001b[0mpreprocessed_data\u001b[0m\u001b[0;34m)\u001b[0m\u001b[0;34m\u001b[0m\u001b[0;34m\u001b[0m\u001b[0m\n\u001b[0m\u001b[1;32m      3\u001b[0m \u001b[0mldamodel\u001b[0m \u001b[0;34m=\u001b[0m \u001b[0mtopic_modeling_results\u001b[0m\u001b[0;34m[\u001b[0m\u001b[0;34m'model'\u001b[0m\u001b[0;34m]\u001b[0m\u001b[0;34m\u001b[0m\u001b[0;34m\u001b[0m\u001b[0m\n\u001b[1;32m      4\u001b[0m \u001b[0mid2word\u001b[0m \u001b[0;34m=\u001b[0m \u001b[0mtopic_modeling_results\u001b[0m\u001b[0;34m[\u001b[0m\u001b[0;34m'id2word'\u001b[0m\u001b[0;34m]\u001b[0m\u001b[0;34m\u001b[0m\u001b[0;34m\u001b[0m\u001b[0m\n",
            "\u001b[0;32m<ipython-input-9-b5092d536b41>\u001b[0m in \u001b[0;36mperform_topic_modeling\u001b[0;34m(preprocessed_data, num_topics)\u001b[0m\n\u001b[1;32m     10\u001b[0m       \u001b[0mA\u001b[0m \u001b[0mdictionary\u001b[0m \u001b[0mcontaining\u001b[0m \u001b[0mthe\u001b[0m \u001b[0mLDA\u001b[0m \u001b[0mmodel\u001b[0m \u001b[0;32mand\u001b[0m \u001b[0mid2word\u001b[0m \u001b[0mmapping\u001b[0m\u001b[0;34m.\u001b[0m\u001b[0;34m\u001b[0m\u001b[0;34m\u001b[0m\u001b[0m\n\u001b[1;32m     11\u001b[0m   \"\"\"\n\u001b[0;32m---> 12\u001b[0;31m   \u001b[0mdictionary\u001b[0m \u001b[0;34m=\u001b[0m \u001b[0mcorpora\u001b[0m\u001b[0;34m.\u001b[0m\u001b[0mDictionary\u001b[0m\u001b[0;34m(\u001b[0m\u001b[0mpreprocessed_data\u001b[0m\u001b[0;34m)\u001b[0m\u001b[0;34m\u001b[0m\u001b[0;34m\u001b[0m\u001b[0m\n\u001b[0m\u001b[1;32m     13\u001b[0m   \u001b[0mcorpus\u001b[0m \u001b[0;34m=\u001b[0m \u001b[0;34m[\u001b[0m\u001b[0mdictionary\u001b[0m\u001b[0;34m.\u001b[0m\u001b[0mdoc2bow\u001b[0m\u001b[0;34m(\u001b[0m\u001b[0mtext\u001b[0m\u001b[0;34m)\u001b[0m \u001b[0;32mfor\u001b[0m \u001b[0mtext\u001b[0m \u001b[0;32min\u001b[0m \u001b[0mpreprocessed_data\u001b[0m\u001b[0;34m]\u001b[0m\u001b[0;34m\u001b[0m\u001b[0;34m\u001b[0m\u001b[0m\n\u001b[1;32m     14\u001b[0m   \u001b[0mldamodel\u001b[0m \u001b[0;34m=\u001b[0m \u001b[0mmodels\u001b[0m\u001b[0;34m.\u001b[0m\u001b[0mLdaModel\u001b[0m\u001b[0;34m(\u001b[0m\u001b[0mcorpus\u001b[0m\u001b[0;34m,\u001b[0m \u001b[0mid2word\u001b[0m\u001b[0;34m=\u001b[0m\u001b[0mdictionary\u001b[0m\u001b[0;34m,\u001b[0m \u001b[0mnum_topics\u001b[0m\u001b[0;34m=\u001b[0m\u001b[0mnum_topics\u001b[0m\u001b[0;34m)\u001b[0m\u001b[0;34m\u001b[0m\u001b[0;34m\u001b[0m\u001b[0m\n",
            "\u001b[0;32m/usr/local/lib/python3.10/dist-packages/gensim/corpora/dictionary.py\u001b[0m in \u001b[0;36m__init__\u001b[0;34m(self, documents, prune_at)\u001b[0m\n\u001b[1;32m     76\u001b[0m \u001b[0;34m\u001b[0m\u001b[0m\n\u001b[1;32m     77\u001b[0m         \u001b[0;32mif\u001b[0m \u001b[0mdocuments\u001b[0m \u001b[0;32mis\u001b[0m \u001b[0;32mnot\u001b[0m \u001b[0;32mNone\u001b[0m\u001b[0;34m:\u001b[0m\u001b[0;34m\u001b[0m\u001b[0;34m\u001b[0m\u001b[0m\n\u001b[0;32m---> 78\u001b[0;31m             \u001b[0mself\u001b[0m\u001b[0;34m.\u001b[0m\u001b[0madd_documents\u001b[0m\u001b[0;34m(\u001b[0m\u001b[0mdocuments\u001b[0m\u001b[0;34m,\u001b[0m \u001b[0mprune_at\u001b[0m\u001b[0;34m=\u001b[0m\u001b[0mprune_at\u001b[0m\u001b[0;34m)\u001b[0m\u001b[0;34m\u001b[0m\u001b[0;34m\u001b[0m\u001b[0m\n\u001b[0m\u001b[1;32m     79\u001b[0m             self.add_lifecycle_event(\n\u001b[1;32m     80\u001b[0m                 \u001b[0;34m\"created\"\u001b[0m\u001b[0;34m,\u001b[0m\u001b[0;34m\u001b[0m\u001b[0;34m\u001b[0m\u001b[0m\n",
            "\u001b[0;32m/usr/local/lib/python3.10/dist-packages/gensim/corpora/dictionary.py\u001b[0m in \u001b[0;36madd_documents\u001b[0;34m(self, documents, prune_at)\u001b[0m\n\u001b[1;32m    202\u001b[0m \u001b[0;34m\u001b[0m\u001b[0m\n\u001b[1;32m    203\u001b[0m             \u001b[0;31m# update Dictionary with the document\u001b[0m\u001b[0;34m\u001b[0m\u001b[0;34m\u001b[0m\u001b[0m\n\u001b[0;32m--> 204\u001b[0;31m             \u001b[0mself\u001b[0m\u001b[0;34m.\u001b[0m\u001b[0mdoc2bow\u001b[0m\u001b[0;34m(\u001b[0m\u001b[0mdocument\u001b[0m\u001b[0;34m,\u001b[0m \u001b[0mallow_update\u001b[0m\u001b[0;34m=\u001b[0m\u001b[0;32mTrue\u001b[0m\u001b[0;34m)\u001b[0m  \u001b[0;31m# ignore the result, here we only care about updating token ids\u001b[0m\u001b[0;34m\u001b[0m\u001b[0;34m\u001b[0m\u001b[0m\n\u001b[0m\u001b[1;32m    205\u001b[0m \u001b[0;34m\u001b[0m\u001b[0m\n\u001b[1;32m    206\u001b[0m         \u001b[0mlogger\u001b[0m\u001b[0;34m.\u001b[0m\u001b[0minfo\u001b[0m\u001b[0;34m(\u001b[0m\u001b[0;34m\"built %s from %i documents (total %i corpus positions)\"\u001b[0m\u001b[0;34m,\u001b[0m \u001b[0mself\u001b[0m\u001b[0;34m,\u001b[0m \u001b[0mself\u001b[0m\u001b[0;34m.\u001b[0m\u001b[0mnum_docs\u001b[0m\u001b[0;34m,\u001b[0m \u001b[0mself\u001b[0m\u001b[0;34m.\u001b[0m\u001b[0mnum_pos\u001b[0m\u001b[0;34m)\u001b[0m\u001b[0;34m\u001b[0m\u001b[0;34m\u001b[0m\u001b[0m\n",
            "\u001b[0;32m/usr/local/lib/python3.10/dist-packages/gensim/corpora/dictionary.py\u001b[0m in \u001b[0;36mdoc2bow\u001b[0;34m(self, document, allow_update, return_missing)\u001b[0m\n\u001b[1;32m    239\u001b[0m         \"\"\"\n\u001b[1;32m    240\u001b[0m         \u001b[0;32mif\u001b[0m \u001b[0misinstance\u001b[0m\u001b[0;34m(\u001b[0m\u001b[0mdocument\u001b[0m\u001b[0;34m,\u001b[0m \u001b[0mstr\u001b[0m\u001b[0;34m)\u001b[0m\u001b[0;34m:\u001b[0m\u001b[0;34m\u001b[0m\u001b[0;34m\u001b[0m\u001b[0m\n\u001b[0;32m--> 241\u001b[0;31m             \u001b[0;32mraise\u001b[0m \u001b[0mTypeError\u001b[0m\u001b[0;34m(\u001b[0m\u001b[0;34m\"doc2bow expects an array of unicode tokens on input, not a single string\"\u001b[0m\u001b[0;34m)\u001b[0m\u001b[0;34m\u001b[0m\u001b[0;34m\u001b[0m\u001b[0m\n\u001b[0m\u001b[1;32m    242\u001b[0m \u001b[0;34m\u001b[0m\u001b[0m\n\u001b[1;32m    243\u001b[0m         \u001b[0;31m# Construct (word, frequency) mapping.\u001b[0m\u001b[0;34m\u001b[0m\u001b[0;34m\u001b[0m\u001b[0m\n",
            "\u001b[0;31mTypeError\u001b[0m: doc2bow expects an array of unicode tokens on input, not a single string"
          ]
        }
      ]
    },
    {
      "cell_type": "code",
      "source": [
        "# Main loop for user interaction\n",
        "while True:\n",
        "  user_question = input(\"You: \")\n",
        "  if user_question.lower() == \"quit\":\n",
        "      break\n",
        "\n",
        "  # Preprocess user question\n",
        "  cleaned_question = clean_text(user_question)\n",
        "\n",
        "  # Identify potential question-answer pairs\n",
        "  qna_pairs = get_qna_pairs(preprocessed_data)\n",
        "\n",
        "  # Get dominant topic for the question\n",
        "  dominant_topic = get_dominant_topic(cleaned_question, ldamodel, id2word)\n",
        "\n",
        "  # Find potential answers based on topic and conversation flow\n",
        "  potential_answers = find_answers(cleaned_question, dominant_topic, qna_pairs, is_answer_relevant)\n",
        "\n",
        "  # Print response\n",
        "  if potential_answers:\n",
        "      print(\"CS:GO Surf Chatbot:\")\n",
        "      for answer in potential_answers:\n",
        "          print(answer)\n",
        "  else:\n",
        "      print(\"CS:GO Surf Chatbot: I couldn't find an answer related to CS:GO Surf in this conversation.\")\n",
        "\n",
        "print(\"CS:GO Surf Chatbot: Goodbye!\")"
      ],
      "metadata": {
        "id": "zSl3OIWJoN1O"
      },
      "execution_count": null,
      "outputs": []
    }
  ]
}