{
  "nbformat": 4,
  "nbformat_minor": 0,
  "metadata": {
    "colab": {
      "provenance": [],
      "gpuType": "T4",
      "authorship_tag": "ABX9TyOpfY/I7zq071d7DsvZU+iR",
      "include_colab_link": true
    },
    "kernelspec": {
      "name": "python3",
      "display_name": "Python 3"
    },
    "language_info": {
      "name": "python"
    },
    "accelerator": "GPU",
    "widgets": {
      "application/vnd.jupyter.widget-state+json": {
        "2f4bc53bcefe4ac490440ebf0cc4d69f": {
          "model_module": "@jupyter-widgets/controls",
          "model_name": "VBoxModel",
          "model_module_version": "1.5.0",
          "state": {
            "_dom_classes": [],
            "_model_module": "@jupyter-widgets/controls",
            "_model_module_version": "1.5.0",
            "_model_name": "VBoxModel",
            "_view_count": null,
            "_view_module": "@jupyter-widgets/controls",
            "_view_module_version": "1.5.0",
            "_view_name": "VBoxView",
            "box_style": "",
            "children": [
              "IPY_MODEL_49ab6a9da7b44eb3b0f37466c0d44749",
              "IPY_MODEL_11a561701dee423eaabaa5f246664f39",
              "IPY_MODEL_101901c389eb4d89b2ceef484904cd00",
              "IPY_MODEL_5b15093e92b24df4b2b15738a31d6864",
              "IPY_MODEL_37b53ebd97c4439dbb99595b4d2e09d3"
            ],
            "layout": "IPY_MODEL_4e083bd381814aa08252ac259c108465"
          }
        },
        "49ab6a9da7b44eb3b0f37466c0d44749": {
          "model_module": "@jupyter-widgets/controls",
          "model_name": "HTMLModel",
          "model_module_version": "1.5.0",
          "state": {
            "_dom_classes": [],
            "_model_module": "@jupyter-widgets/controls",
            "_model_module_version": "1.5.0",
            "_model_name": "HTMLModel",
            "_view_count": null,
            "_view_module": "@jupyter-widgets/controls",
            "_view_module_version": "1.5.0",
            "_view_name": "HTMLView",
            "description": "",
            "description_tooltip": null,
            "layout": "IPY_MODEL_123174b734204b73b45bf2ac19810f80",
            "placeholder": "​",
            "style": "IPY_MODEL_a4de6b5312064a15be497f87a67cfabb",
            "value": "<center> <img\nsrc=https://huggingface.co/front/assets/huggingface_logo-noborder.svg\nalt='Hugging Face'> <br> Copy a token from <a\nhref=\"https://huggingface.co/settings/tokens\" target=\"_blank\">your Hugging Face\ntokens page</a> and paste it below. <br> Immediately click login after copying\nyour token or it might be stored in plain text in this notebook file. </center>"
          }
        },
        "11a561701dee423eaabaa5f246664f39": {
          "model_module": "@jupyter-widgets/controls",
          "model_name": "PasswordModel",
          "model_module_version": "1.5.0",
          "state": {
            "_dom_classes": [],
            "_model_module": "@jupyter-widgets/controls",
            "_model_module_version": "1.5.0",
            "_model_name": "PasswordModel",
            "_view_count": null,
            "_view_module": "@jupyter-widgets/controls",
            "_view_module_version": "1.5.0",
            "_view_name": "PasswordView",
            "continuous_update": true,
            "description": "Token:",
            "description_tooltip": null,
            "disabled": false,
            "layout": "IPY_MODEL_80b65a1ba24e4a88b6570abbbfde6d24",
            "placeholder": "​",
            "style": "IPY_MODEL_d49c9b33a73c48bbab5f7a63ba31c027",
            "value": ""
          }
        },
        "101901c389eb4d89b2ceef484904cd00": {
          "model_module": "@jupyter-widgets/controls",
          "model_name": "CheckboxModel",
          "model_module_version": "1.5.0",
          "state": {
            "_dom_classes": [],
            "_model_module": "@jupyter-widgets/controls",
            "_model_module_version": "1.5.0",
            "_model_name": "CheckboxModel",
            "_view_count": null,
            "_view_module": "@jupyter-widgets/controls",
            "_view_module_version": "1.5.0",
            "_view_name": "CheckboxView",
            "description": "Add token as git credential?",
            "description_tooltip": null,
            "disabled": false,
            "indent": true,
            "layout": "IPY_MODEL_41089d741cb8484a81f1ba73e466f8c9",
            "style": "IPY_MODEL_5437d233a5ba4e2b9bdc34bec8e5a10a",
            "value": true
          }
        },
        "5b15093e92b24df4b2b15738a31d6864": {
          "model_module": "@jupyter-widgets/controls",
          "model_name": "ButtonModel",
          "model_module_version": "1.5.0",
          "state": {
            "_dom_classes": [],
            "_model_module": "@jupyter-widgets/controls",
            "_model_module_version": "1.5.0",
            "_model_name": "ButtonModel",
            "_view_count": null,
            "_view_module": "@jupyter-widgets/controls",
            "_view_module_version": "1.5.0",
            "_view_name": "ButtonView",
            "button_style": "",
            "description": "Login",
            "disabled": false,
            "icon": "",
            "layout": "IPY_MODEL_6d12c36f1c79480bbf9182f7d2b56a66",
            "style": "IPY_MODEL_3d71365eae59482899bc25b6a7233b4a",
            "tooltip": ""
          }
        },
        "37b53ebd97c4439dbb99595b4d2e09d3": {
          "model_module": "@jupyter-widgets/controls",
          "model_name": "HTMLModel",
          "model_module_version": "1.5.0",
          "state": {
            "_dom_classes": [],
            "_model_module": "@jupyter-widgets/controls",
            "_model_module_version": "1.5.0",
            "_model_name": "HTMLModel",
            "_view_count": null,
            "_view_module": "@jupyter-widgets/controls",
            "_view_module_version": "1.5.0",
            "_view_name": "HTMLView",
            "description": "",
            "description_tooltip": null,
            "layout": "IPY_MODEL_eaca73c6df824c5aa082af44550b602d",
            "placeholder": "​",
            "style": "IPY_MODEL_8452cb457571443984505b75c8694a0a",
            "value": "\n<b>Pro Tip:</b> If you don't already have one, you can create a dedicated\n'notebooks' token with 'write' access, that you can then easily reuse for all\nnotebooks. </center>"
          }
        },
        "4e083bd381814aa08252ac259c108465": {
          "model_module": "@jupyter-widgets/base",
          "model_name": "LayoutModel",
          "model_module_version": "1.2.0",
          "state": {
            "_model_module": "@jupyter-widgets/base",
            "_model_module_version": "1.2.0",
            "_model_name": "LayoutModel",
            "_view_count": null,
            "_view_module": "@jupyter-widgets/base",
            "_view_module_version": "1.2.0",
            "_view_name": "LayoutView",
            "align_content": null,
            "align_items": "center",
            "align_self": null,
            "border": null,
            "bottom": null,
            "display": "flex",
            "flex": null,
            "flex_flow": "column",
            "grid_area": null,
            "grid_auto_columns": null,
            "grid_auto_flow": null,
            "grid_auto_rows": null,
            "grid_column": null,
            "grid_gap": null,
            "grid_row": null,
            "grid_template_areas": null,
            "grid_template_columns": null,
            "grid_template_rows": null,
            "height": null,
            "justify_content": null,
            "justify_items": null,
            "left": null,
            "margin": null,
            "max_height": null,
            "max_width": null,
            "min_height": null,
            "min_width": null,
            "object_fit": null,
            "object_position": null,
            "order": null,
            "overflow": null,
            "overflow_x": null,
            "overflow_y": null,
            "padding": null,
            "right": null,
            "top": null,
            "visibility": null,
            "width": "50%"
          }
        },
        "123174b734204b73b45bf2ac19810f80": {
          "model_module": "@jupyter-widgets/base",
          "model_name": "LayoutModel",
          "model_module_version": "1.2.0",
          "state": {
            "_model_module": "@jupyter-widgets/base",
            "_model_module_version": "1.2.0",
            "_model_name": "LayoutModel",
            "_view_count": null,
            "_view_module": "@jupyter-widgets/base",
            "_view_module_version": "1.2.0",
            "_view_name": "LayoutView",
            "align_content": null,
            "align_items": null,
            "align_self": null,
            "border": null,
            "bottom": null,
            "display": null,
            "flex": null,
            "flex_flow": null,
            "grid_area": null,
            "grid_auto_columns": null,
            "grid_auto_flow": null,
            "grid_auto_rows": null,
            "grid_column": null,
            "grid_gap": null,
            "grid_row": null,
            "grid_template_areas": null,
            "grid_template_columns": null,
            "grid_template_rows": null,
            "height": null,
            "justify_content": null,
            "justify_items": null,
            "left": null,
            "margin": null,
            "max_height": null,
            "max_width": null,
            "min_height": null,
            "min_width": null,
            "object_fit": null,
            "object_position": null,
            "order": null,
            "overflow": null,
            "overflow_x": null,
            "overflow_y": null,
            "padding": null,
            "right": null,
            "top": null,
            "visibility": null,
            "width": null
          }
        },
        "a4de6b5312064a15be497f87a67cfabb": {
          "model_module": "@jupyter-widgets/controls",
          "model_name": "DescriptionStyleModel",
          "model_module_version": "1.5.0",
          "state": {
            "_model_module": "@jupyter-widgets/controls",
            "_model_module_version": "1.5.0",
            "_model_name": "DescriptionStyleModel",
            "_view_count": null,
            "_view_module": "@jupyter-widgets/base",
            "_view_module_version": "1.2.0",
            "_view_name": "StyleView",
            "description_width": ""
          }
        },
        "80b65a1ba24e4a88b6570abbbfde6d24": {
          "model_module": "@jupyter-widgets/base",
          "model_name": "LayoutModel",
          "model_module_version": "1.2.0",
          "state": {
            "_model_module": "@jupyter-widgets/base",
            "_model_module_version": "1.2.0",
            "_model_name": "LayoutModel",
            "_view_count": null,
            "_view_module": "@jupyter-widgets/base",
            "_view_module_version": "1.2.0",
            "_view_name": "LayoutView",
            "align_content": null,
            "align_items": null,
            "align_self": null,
            "border": null,
            "bottom": null,
            "display": null,
            "flex": null,
            "flex_flow": null,
            "grid_area": null,
            "grid_auto_columns": null,
            "grid_auto_flow": null,
            "grid_auto_rows": null,
            "grid_column": null,
            "grid_gap": null,
            "grid_row": null,
            "grid_template_areas": null,
            "grid_template_columns": null,
            "grid_template_rows": null,
            "height": null,
            "justify_content": null,
            "justify_items": null,
            "left": null,
            "margin": null,
            "max_height": null,
            "max_width": null,
            "min_height": null,
            "min_width": null,
            "object_fit": null,
            "object_position": null,
            "order": null,
            "overflow": null,
            "overflow_x": null,
            "overflow_y": null,
            "padding": null,
            "right": null,
            "top": null,
            "visibility": null,
            "width": null
          }
        },
        "d49c9b33a73c48bbab5f7a63ba31c027": {
          "model_module": "@jupyter-widgets/controls",
          "model_name": "DescriptionStyleModel",
          "model_module_version": "1.5.0",
          "state": {
            "_model_module": "@jupyter-widgets/controls",
            "_model_module_version": "1.5.0",
            "_model_name": "DescriptionStyleModel",
            "_view_count": null,
            "_view_module": "@jupyter-widgets/base",
            "_view_module_version": "1.2.0",
            "_view_name": "StyleView",
            "description_width": ""
          }
        },
        "41089d741cb8484a81f1ba73e466f8c9": {
          "model_module": "@jupyter-widgets/base",
          "model_name": "LayoutModel",
          "model_module_version": "1.2.0",
          "state": {
            "_model_module": "@jupyter-widgets/base",
            "_model_module_version": "1.2.0",
            "_model_name": "LayoutModel",
            "_view_count": null,
            "_view_module": "@jupyter-widgets/base",
            "_view_module_version": "1.2.0",
            "_view_name": "LayoutView",
            "align_content": null,
            "align_items": null,
            "align_self": null,
            "border": null,
            "bottom": null,
            "display": null,
            "flex": null,
            "flex_flow": null,
            "grid_area": null,
            "grid_auto_columns": null,
            "grid_auto_flow": null,
            "grid_auto_rows": null,
            "grid_column": null,
            "grid_gap": null,
            "grid_row": null,
            "grid_template_areas": null,
            "grid_template_columns": null,
            "grid_template_rows": null,
            "height": null,
            "justify_content": null,
            "justify_items": null,
            "left": null,
            "margin": null,
            "max_height": null,
            "max_width": null,
            "min_height": null,
            "min_width": null,
            "object_fit": null,
            "object_position": null,
            "order": null,
            "overflow": null,
            "overflow_x": null,
            "overflow_y": null,
            "padding": null,
            "right": null,
            "top": null,
            "visibility": null,
            "width": null
          }
        },
        "5437d233a5ba4e2b9bdc34bec8e5a10a": {
          "model_module": "@jupyter-widgets/controls",
          "model_name": "DescriptionStyleModel",
          "model_module_version": "1.5.0",
          "state": {
            "_model_module": "@jupyter-widgets/controls",
            "_model_module_version": "1.5.0",
            "_model_name": "DescriptionStyleModel",
            "_view_count": null,
            "_view_module": "@jupyter-widgets/base",
            "_view_module_version": "1.2.0",
            "_view_name": "StyleView",
            "description_width": ""
          }
        },
        "6d12c36f1c79480bbf9182f7d2b56a66": {
          "model_module": "@jupyter-widgets/base",
          "model_name": "LayoutModel",
          "model_module_version": "1.2.0",
          "state": {
            "_model_module": "@jupyter-widgets/base",
            "_model_module_version": "1.2.0",
            "_model_name": "LayoutModel",
            "_view_count": null,
            "_view_module": "@jupyter-widgets/base",
            "_view_module_version": "1.2.0",
            "_view_name": "LayoutView",
            "align_content": null,
            "align_items": null,
            "align_self": null,
            "border": null,
            "bottom": null,
            "display": null,
            "flex": null,
            "flex_flow": null,
            "grid_area": null,
            "grid_auto_columns": null,
            "grid_auto_flow": null,
            "grid_auto_rows": null,
            "grid_column": null,
            "grid_gap": null,
            "grid_row": null,
            "grid_template_areas": null,
            "grid_template_columns": null,
            "grid_template_rows": null,
            "height": null,
            "justify_content": null,
            "justify_items": null,
            "left": null,
            "margin": null,
            "max_height": null,
            "max_width": null,
            "min_height": null,
            "min_width": null,
            "object_fit": null,
            "object_position": null,
            "order": null,
            "overflow": null,
            "overflow_x": null,
            "overflow_y": null,
            "padding": null,
            "right": null,
            "top": null,
            "visibility": null,
            "width": null
          }
        },
        "3d71365eae59482899bc25b6a7233b4a": {
          "model_module": "@jupyter-widgets/controls",
          "model_name": "ButtonStyleModel",
          "model_module_version": "1.5.0",
          "state": {
            "_model_module": "@jupyter-widgets/controls",
            "_model_module_version": "1.5.0",
            "_model_name": "ButtonStyleModel",
            "_view_count": null,
            "_view_module": "@jupyter-widgets/base",
            "_view_module_version": "1.2.0",
            "_view_name": "StyleView",
            "button_color": null,
            "font_weight": ""
          }
        },
        "eaca73c6df824c5aa082af44550b602d": {
          "model_module": "@jupyter-widgets/base",
          "model_name": "LayoutModel",
          "model_module_version": "1.2.0",
          "state": {
            "_model_module": "@jupyter-widgets/base",
            "_model_module_version": "1.2.0",
            "_model_name": "LayoutModel",
            "_view_count": null,
            "_view_module": "@jupyter-widgets/base",
            "_view_module_version": "1.2.0",
            "_view_name": "LayoutView",
            "align_content": null,
            "align_items": null,
            "align_self": null,
            "border": null,
            "bottom": null,
            "display": null,
            "flex": null,
            "flex_flow": null,
            "grid_area": null,
            "grid_auto_columns": null,
            "grid_auto_flow": null,
            "grid_auto_rows": null,
            "grid_column": null,
            "grid_gap": null,
            "grid_row": null,
            "grid_template_areas": null,
            "grid_template_columns": null,
            "grid_template_rows": null,
            "height": null,
            "justify_content": null,
            "justify_items": null,
            "left": null,
            "margin": null,
            "max_height": null,
            "max_width": null,
            "min_height": null,
            "min_width": null,
            "object_fit": null,
            "object_position": null,
            "order": null,
            "overflow": null,
            "overflow_x": null,
            "overflow_y": null,
            "padding": null,
            "right": null,
            "top": null,
            "visibility": null,
            "width": null
          }
        },
        "8452cb457571443984505b75c8694a0a": {
          "model_module": "@jupyter-widgets/controls",
          "model_name": "DescriptionStyleModel",
          "model_module_version": "1.5.0",
          "state": {
            "_model_module": "@jupyter-widgets/controls",
            "_model_module_version": "1.5.0",
            "_model_name": "DescriptionStyleModel",
            "_view_count": null,
            "_view_module": "@jupyter-widgets/base",
            "_view_module_version": "1.2.0",
            "_view_name": "StyleView",
            "description_width": ""
          }
        }
      }
    }
  },
  "cells": [
    {
      "cell_type": "markdown",
      "metadata": {
        "id": "view-in-github",
        "colab_type": "text"
      },
      "source": [
        "<a href=\"https://colab.research.google.com/github/etuckerman/surf_NLP/blob/main/surf_NLP.ipynb\" target=\"_parent\"><img src=\"https://colab.research.google.com/assets/colab-badge.svg\" alt=\"Open In Colab\"/></a>"
      ]
    },
    {
      "cell_type": "markdown",
      "source": [
        "# **Log into HuggingFace**"
      ],
      "metadata": {
        "id": "vlEY_pdmRhwL"
      }
    },
    {
      "cell_type": "code",
      "source": [
        "from huggingface_hub import notebook_login\n",
        "\n",
        "notebook_login()"
      ],
      "metadata": {
        "colab": {
          "base_uri": "https://localhost:8080/",
          "height": 443,
          "referenced_widgets": [
            "2f4bc53bcefe4ac490440ebf0cc4d69f",
            "49ab6a9da7b44eb3b0f37466c0d44749",
            "11a561701dee423eaabaa5f246664f39",
            "101901c389eb4d89b2ceef484904cd00",
            "5b15093e92b24df4b2b15738a31d6864",
            "37b53ebd97c4439dbb99595b4d2e09d3",
            "4e083bd381814aa08252ac259c108465",
            "123174b734204b73b45bf2ac19810f80",
            "a4de6b5312064a15be497f87a67cfabb",
            "80b65a1ba24e4a88b6570abbbfde6d24",
            "d49c9b33a73c48bbab5f7a63ba31c027",
            "41089d741cb8484a81f1ba73e466f8c9",
            "5437d233a5ba4e2b9bdc34bec8e5a10a",
            "6d12c36f1c79480bbf9182f7d2b56a66",
            "3d71365eae59482899bc25b6a7233b4a",
            "eaca73c6df824c5aa082af44550b602d",
            "8452cb457571443984505b75c8694a0a"
          ]
        },
        "id": "90E__90_RnQe",
        "outputId": "6b119ed6-d6a8-4f35-ced0-a903f4fe3ad0"
      },
      "execution_count": 23,
      "outputs": [
        {
          "output_type": "display_data",
          "data": {
            "text/plain": [
              "VBox(children=(HTML(value='<center> <img\\nsrc=https://huggingface.co/front/assets/huggingface_logo-noborder.sv…"
            ],
            "application/vnd.jupyter.widget-view+json": {
              "version_major": 2,
              "version_minor": 0,
              "model_id": "2f4bc53bcefe4ac490440ebf0cc4d69f"
            }
          },
          "metadata": {}
        }
      ]
    },
    {
      "cell_type": "code",
      "source": [
        "data_path = \"/content/surf_messages.csv\"\n",
        "preprocessed_data = []\n"
      ],
      "metadata": {
        "id": "gV43iABdar7o"
      },
      "execution_count": 24,
      "outputs": []
    },
    {
      "cell_type": "code",
      "source": [
        "!pip install tqdm"
      ],
      "metadata": {
        "id": "Jx7uYVvmmY9_",
        "outputId": "e204b370-037d-459b-d24e-14e54ef4f34b",
        "colab": {
          "base_uri": "https://localhost:8080/"
        }
      },
      "execution_count": 25,
      "outputs": [
        {
          "output_type": "stream",
          "name": "stdout",
          "text": [
            "Requirement already satisfied: tqdm in /usr/local/lib/python3.10/dist-packages (4.66.2)\n"
          ]
        }
      ]
    },
    {
      "cell_type": "code",
      "source": [
        "import csv\n",
        "from spacy.lang.en import English\n",
        "from gensim import corpora, models\n",
        "from tqdm import tqdm\n",
        "\n"
      ],
      "metadata": {
        "id": "LfOEGvhcep0D"
      },
      "execution_count": 26,
      "outputs": []
    },
    {
      "cell_type": "code",
      "source": [
        "def load_and_preprocess_data(data_path):\n",
        "  \"\"\"\n",
        "  This function loads data from a CSV file, extracts messages, and preprocesses them.\n",
        "\n",
        "  Args:\n",
        "      data_path: The path to the CSV file containing chat data.\n",
        "\n",
        "  Returns:\n",
        "      A list of cleaned text messages.\n",
        "  \"\"\"\n",
        "  data = []\n",
        "  try:\n",
        "    with open(data_path, 'r', encoding='utf-8') as csvfile:\n",
        "      reader = csv.DictReader(csvfile)\n",
        "      for row in reader:\n",
        "        # Assuming messages are in the 'Message' column (adjust if different)\n",
        "        message = row['Message']\n",
        "        data.append(message)\n",
        "  except FileNotFoundError:\n",
        "    print(\"Error: Could not find the data file. Please check the path and try again.\")\n",
        "    exit()\n",
        "\n",
        "  # Preprocess data (clean text) - Replace this with your actual text cleaning logic\n",
        "  cleaned_data = []  # Create an empty list to store cleaned messages\n",
        "  for message in data:\n",
        "    # Add your text cleaning logic here (e.g., remove punctuation, convert to lowercase)\n",
        "    cleaned_message = clean_text(message)  # Assuming clean_text is defined elsewhere\n",
        "    cleaned_data.append(cleaned_message)\n",
        "\n",
        "  return cleaned_data\n"
      ],
      "metadata": {
        "id": "7a6n-jHWlXeg"
      },
      "execution_count": 27,
      "outputs": []
    },
    {
      "cell_type": "code",
      "source": [
        "\n",
        "def clean_text(text):\n",
        "  \"\"\"\n",
        "  This function cleans text data by removing punctuation, stop words, and converting to lemmas.\n",
        "\n",
        "  Args:\n",
        "      text: The text string to be cleaned.\n",
        "\n",
        "  Returns:\n",
        "      A cleaned text string.\n",
        "  \"\"\"\n",
        "  nlp = English()\n",
        "  tokens = nlp(text.lower())\n",
        "  clean_tokens = [token.lemma_ for token in tokens if not token.is_stop and not token.is_punct]\n",
        "  return \" \".join(clean_tokens)\n"
      ],
      "metadata": {
        "id": "VpQ57_Gue0Re"
      },
      "execution_count": 28,
      "outputs": []
    },
    {
      "cell_type": "code",
      "source": [
        "def perform_topic_modeling(preprocessed_data, num_topics=15):\n",
        "  \"\"\"\n",
        "  This function performs topic modeling on the preprocessed data using LDA.\n",
        "\n",
        "  Args:\n",
        "      preprocessed_data: A list of cleaned text messages.\n",
        "      num_topics: The number of topics to identify (default 15).\n",
        "\n",
        "  Returns:\n",
        "      A dictionary containing the LDA model and id2word mapping.\n",
        "  \"\"\"\n",
        "  dictionary = corpora.Dictionary(preprocessed_data)\n",
        "  corpus = [dictionary.doc2bow(text) for text in preprocessed_data]\n",
        "  ldamodel = models.LdaModel(corpus, id2word=dictionary, num_topics=num_topics)\n",
        "  return {'model': ldamodel, 'id2word': dictionary.id2word}\n"
      ],
      "metadata": {
        "id": "rVz4Httne4G4"
      },
      "execution_count": 29,
      "outputs": []
    },
    {
      "cell_type": "code",
      "source": [
        "# Replace with your function to identify potential questions (consider conversation flow)\n",
        "def is_question(message):\n",
        "  \"\"\"\n",
        "  This function checks if a message is a question based on patterns.\n",
        "\n",
        "  Args:\n",
        "      message: The text message to be analyzed.\n",
        "\n",
        "  Returns:\n",
        "      True if the message is a question, False otherwise.\n",
        "  \"\"\"\n",
        "  question_words = [\"help\", \"tip\", \"best\", \"smoke\", \"nade\", \"flash\", \"fire\", \"pop\", \"molly\", \"decoy\", \"inferno\", \"mirage\", \"dust2\", \"overpass\", \"nuke\", \"cache\", \"train\", \" Vertigo\", \"cobblestone\", \"office\", \"cache\", \"office\", \"vertigo\", \"cobblestone\", \"how\", \"what\", \"where\", \"when\", \"why\", \"can\", \"could\", \"should\", \"which\", \"do\", \"be\", \"would\"]\n",
        "  return any(word in message.lower() for word in question_words) or \"?\" in message.lower()\n",
        "\n",
        "def get_qna_pairs(data, window_size=10):\n",
        "  \"\"\"\n",
        "  This function identifies potential question-answer pairs within a time window.\n",
        "\n",
        "  Args:\n",
        "      data: A list containing all cleaned chat messages.\n",
        "      window_size: The size of the time window to consider after a question (default 10 messages).\n",
        "\n",
        "  Returns:\n",
        "      A list of potential question-answer pairs as tuples (question, answer).\n",
        "  \"\"\"\n",
        "  qna_pairs = []\n",
        "  for i in range(len(data)):\n",
        "    if is_question(data[i]):  # Check if current message is a question\n",
        "      # Look for answers within the window\n",
        "      for j in range(i + 1, min(i + window_size + 1, len(data))):\n",
        "        qna_pairs.append((data[i], data[j]))  # Add potential question-answer pair\n",
        "  return qna_pairs\n"
      ],
      "metadata": {
        "id": "kyufLejce7XB"
      },
      "execution_count": 30,
      "outputs": []
    },
    {
      "cell_type": "code",
      "source": [
        "# Placeholder function for answer relevance (replace with your logic)\n",
        "def is_answer_relevant(question, answer):\n",
        "  \"\"\"\n",
        "  This function checks if an answer is potentially relevant to the question based on keywords.\n",
        "\n",
        "  Args:\n",
        "      question: The user's question.\n",
        "      answer: The potential answer message.\n",
        "\n",
        "  Returns:\n",
        "      True if the answer seems relevant, False otherwise (replace with your logic).\n",
        "  \"\"\"\n",
        "  # This is a basic example using keywords in the answer. You can improve this!\n",
        "  question_words = question.lower().split()\n",
        "  answer_words = answer.lower().split()\n",
        "  return any(word in answer_words for word in question_words)\n"
      ],
      "metadata": {
        "id": "sxz-azNdfWI9"
      },
      "execution_count": 31,
      "outputs": []
    },
    {
      "cell_type": "code",
      "source": [
        "# Assuming data_path is already defined (replace with your actual path)\n",
        "data_path = \"/content/surf_messages.csv\"\n",
        "\n",
        "# Define preprocessed_data as an empty list\n",
        "preprocessed_data = []\n",
        "\n",
        "print(data_path)\n",
        "print(preprocessed_data)"
      ],
      "metadata": {
        "id": "iOWlG1BAlBdB",
        "outputId": "1cc4b2fe-78d0-437e-b1fd-8fa19fbf69c8",
        "colab": {
          "base_uri": "https://localhost:8080/"
        }
      },
      "execution_count": 32,
      "outputs": [
        {
          "output_type": "stream",
          "name": "stdout",
          "text": [
            "/content/surf_messages.csv\n",
            "[]\n"
          ]
        }
      ]
    },
    {
      "cell_type": "code",
      "source": [
        "# Now call the function to load and preprocess data (after defining data_path)\n",
        "preprocessed_data = load_and_preprocess_data(data_path)\n",
        "# Perform topic modeling (assuming you want 15 topics, adjust if desired)\n",
        "topic_modeling_results = perform_topic_modeling(preprocessed_data)\n",
        "ldamodel = topic_modeling_results['model']\n",
        "id2word = topic_modeling_results['id2word']\n",
        "\n",
        "# Main loop for user interaction\n",
        "while True:\n",
        "  user_question = input(\"You: \")\n",
        "  if user_question.lower() == \"quit\":\n",
        "    break\n",
        "\n",
        "  # Preprocess user question\n",
        "  cleaned_question = clean_text(user_question)\n",
        "\n",
        "  # Identify potential question-answer pairs\n",
        "  qna_pairs = get_qna_pairs(preprocessed_data)\n",
        "\n",
        "  # Get dominant topic for the question\n",
        "  dominant_topic = get_dominant_topic(cleaned_question, ldamodel, id2word)\n",
        "\n",
        "  # Find potential answers based on topic and conversation flow\n",
        "  potential_answers = find_answers(cleaned_question, dominant_topic, qna_pairs, is_answer_relevant)\n",
        "\n",
        "  # Print response\n",
        "  if potential_answers:\n",
        "    print(\"CS:GO Surf Chatbot:\")\n",
        "    for answer in potential_answers:\n",
        "      print(answer)\n",
        "  else:\n",
        "    print(\"CS:GO Surf Chatbot: I couldn't find an answer related to CS:GO Surf in this conversation.\")\n",
        "\n",
        "print(\"CS:GO Surf Chatbot: Goodbye!\")\n",
        "\n",
        "# Define functions not implemented yet (replace with their logic)\n",
        "def get_dominant_topic(message, ldamodel, id2word):\n",
        "  \"\"\"\n",
        "  This function identifies the most dominant topic for a message using LDA.\n",
        "\n",
        "  Args:\n",
        "      message: The text message for which to identify the dominant topic.\n",
        "      ldamodel: The trained LDA model.\n",
        "      id2word: The id2word mapping from the LDA model.\n",
        "\n",
        "  Returns:\n",
        "      The index of the most dominant topic.\n",
        "  \"\"\"\n",
        "  bow = dictionary.doc2bow(clean_text(message))  # Assuming clean_text is defined\n",
        "  topics = ldamodel[bow]  # Get topic distribution for the message\n",
        "  dominant_topic_index = max(enumerate(topics), key=lambda x: x[1])[0]  # Find the topic with the highest probability\n",
        "  return dominant_topic_index\n",
        "\n",
        "def find_answers(question, topic_index, qna_pairs, is_answer_relevant):\n",
        "  \"\"\"\n",
        "  This function finds potential answers for a question based on topic and conversation flow.\n",
        "\n",
        "  Args:\n",
        "      question: The user's question.\n",
        "      topic_index: The index of the most dominant topic for the question.\n",
        "      qna_pairs: A list of potential question-answer pairs.\n",
        "      is_answer_relevant: A function to check answer relevance (replace with your implementation).\n",
        "\n",
        "  Returns:\n",
        "      A list of potential answer messages.\n",
        "  \"\"\"\n",
        "  answers = []\n",
        "  for qna_pair in qna_pairs:\n",
        "    q, a = qna_pair\n",
        "    if get_dominant_topic(q, ldamodel, id2word) == topic_index and is_answer_relevant(question, a):  # Check topic and answer relevance\n",
        "      answers.append(a)\n",
        "  return answers\n"
      ],
      "metadata": {
        "id": "EWLpgR9kfdfi"
      },
      "execution_count": null,
      "outputs": []
    },
    {
      "cell_type": "code",
      "source": [],
      "metadata": {
        "id": "GGcR9s8qe86w"
      },
      "execution_count": null,
      "outputs": []
    }
  ]
}